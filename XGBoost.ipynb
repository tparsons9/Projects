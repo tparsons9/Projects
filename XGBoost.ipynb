{
  "nbformat": 4,
  "nbformat_minor": 0,
  "metadata": {
    "colab": {
      "name": "XGBoost.ipynb",
      "provenance": [],
      "collapsed_sections": [
        "AVi-rfn0Et3Q"
      ]
    },
    "kernelspec": {
      "display_name": "Python 3",
      "name": "python3"
    },
    "language_info": {
      "name": "python"
    }
  },
  "cells": [
    {
      "cell_type": "markdown",
      "metadata": {
        "id": "lTwMzYkGMFN7"
      },
      "source": [
        "\n",
        "**Dataset Pre-Processing**\n",
        "---\n",
        "\n"
      ]
    },
    {
      "cell_type": "markdown",
      "metadata": {
        "id": "5k_e44kTctbx"
      },
      "source": [
        "For initial exploratory data analysis, we are exploring the Quality of Government dataset compiled by the University of Goethenburg. This dataset consists of 19 thematic groupings relating to country characteristics, with 260 unique variables and a range from 1946-2021. The dataset is available for non-commercial public use. \n",
        "  \n",
        "*Dahlberg, Stefan,  Aksel Sundström, Sören Holmberg, Bo Rothstein, Natalia Alvarado Pachon & Cem Mert Dalli*. 2021. The Quality of Government Basic Dataset, version Jan21. University of Gothenburg: The Quality of Government Institute, http://www.qog.pol.gu.se doi:10.18157/qogbasjan21"
      ]
    },
    {
      "cell_type": "code",
      "metadata": {
        "id": "bVBekYOle8td"
      },
      "source": [
        "#Install initial dependencies\n",
        "!pip install https://github.com/pandas-profiling/pandas-profiling/archive/master.zip\n",
        "!pip show pandas-profiling\n",
        "!pip install shap\n",
        "!pip install firebase_admin"
      ],
      "execution_count": null,
      "outputs": []
    },
    {
      "cell_type": "code",
      "metadata": {
        "id": "JQZ3xBrNf-BX"
      },
      "source": [
        "#Load dependencies\n",
        "import numpy as np, pandas as pd, seaborn as sns\n",
        "from pandas_profiling import ProfileReport\n",
        "import matplotlib.pyplot as plt\n",
        "import firebase_admin\n",
        "from firebase_admin import firestore, credentials\n",
        "%matplotlib inline\n",
        "\n"
      ],
      "execution_count": null,
      "outputs": []
    },
    {
      "cell_type": "code",
      "metadata": {
        "id": "ob5OJEOkZuMs"
      },
      "source": [
        "#Connect to database\n",
        "cred = credentials.Certificate(\"/content/burnished-yeti-321014-767857513ba4.json\")\n",
        "firebase_admin.initialize_app(cred)\n",
        "db = firestore.client()\n"
      ],
      "execution_count": null,
      "outputs": []
    },
    {
      "cell_type": "code",
      "metadata": {
        "colab": {
          "base_uri": "https://localhost:8080/",
          "height": 270
        },
        "id": "6ia4HNh2c6CS",
        "outputId": "677e2678-44dc-42e2-d70b-5558072301c5"
      },
      "source": [
        "#Connect to collection and query for rows from year 2000 onward\n",
        "doc_qog = db.collection('QoG').where('year','>=',2000)\n",
        "\n",
        "#Read documents into dataframe\n",
        "qog_docs = [snapshot for snapshot in doc_qog.stream()]\n",
        "QoG_dict = list(map(lambda x: x.to_dict(), qog_docs))\n",
        "qog = pd.DataFrame(QoG_dict)\n",
        "\n",
        "#Describe dataframe\n",
        "print(qog.shape)\n",
        "qog.head(5)"
      ],
      "execution_count": null,
      "outputs": [
        {
          "output_type": "stream",
          "name": "stdout",
          "text": [
            "(4431, 1864)\n"
          ]
        },
        {
          "output_type": "execute_result",
          "data": {
            "text/html": [
              "<div>\n",
              "<style scoped>\n",
              "    .dataframe tbody tr th:only-of-type {\n",
              "        vertical-align: middle;\n",
              "    }\n",
              "\n",
              "    .dataframe tbody tr th {\n",
              "        vertical-align: top;\n",
              "    }\n",
              "\n",
              "    .dataframe thead th {\n",
              "        text-align: right;\n",
              "    }\n",
              "</style>\n",
              "<table border=\"1\" class=\"dataframe\">\n",
              "  <thead>\n",
              "    <tr style=\"text-align: right;\">\n",
              "      <th></th>\n",
              "      <th>bti_ba</th>\n",
              "      <th>prp_std</th>\n",
              "      <th>cpds_vall</th>\n",
              "      <th>gpi_conf</th>\n",
              "      <th>sgi_go</th>\n",
              "      <th>gcb_putil</th>\n",
              "      <th>bti_lod</th>\n",
              "      <th>eu_empy1524t</th>\n",
              "      <th>lp_protmg80</th>\n",
              "      <th>gea_ea1524m</th>\n",
              "      <th>eu_sctlkisf</th>\n",
              "      <th>wef_wi</th>\n",
              "      <th>bti_ffe</th>\n",
              "      <th>sw_cll</th>\n",
              "      <th>wdi_debt</th>\n",
              "      <th>eu_sctcltclmt</th>\n",
              "      <th>aid_cpnc</th>\n",
              "      <th>jw_avgvote</th>\n",
              "      <th>oecd_ptempl_t1</th>\n",
              "      <th>eu_demcnmigratn</th>\n",
              "      <th>wgov_totfem</th>\n",
              "      <th>wwbi_fmwrpumean</th>\n",
              "      <th>eu_resbust</th>\n",
              "      <th>eu_resgovf</th>\n",
              "      <th>cpds_vnl</th>\n",
              "      <th>vdem_exthftps</th>\n",
              "      <th>ideaesd_lsvm</th>\n",
              "      <th>ictd_taxexsc</th>\n",
              "      <th>oecd_pension_t1a</th>\n",
              "      <th>oecd_totaltax_t1</th>\n",
              "      <th>oecd_housnonfin_t1a</th>\n",
              "      <th>oecd_fdindex_t1c</th>\n",
              "      <th>oecd_nurse_g3</th>\n",
              "      <th>iaep_rmcc</th>\n",
              "      <th>gpi_jail</th>\n",
              "      <th>eu_trfrldnld</th>\n",
              "      <th>gwf_duration</th>\n",
              "      <th>iaep_enlc</th>\n",
              "      <th>gea_ea2534f</th>\n",
              "      <th>kun_polrel</th>\n",
              "      <th>...</th>\n",
              "      <th>oecd_airqty_t1</th>\n",
              "      <th>ihme_hle_0104f</th>\n",
              "      <th>gpi_ss</th>\n",
              "      <th>gle_imp</th>\n",
              "      <th>eu_heanursp</th>\n",
              "      <th>eu_edued303458t</th>\n",
              "      <th>aii_q24</th>\n",
              "      <th>ihme_lifexp_0104f</th>\n",
              "      <th>wdi_idpvc</th>\n",
              "      <th>aii_q47</th>\n",
              "      <th>wr_nonautocracy</th>\n",
              "      <th>oecd_migunemp_t1f</th>\n",
              "      <th>eu_sctlkisothf</th>\n",
              "      <th>oecd_gengovdistri_t1f</th>\n",
              "      <th>ccp_market</th>\n",
              "      <th>iiag_inf</th>\n",
              "      <th>eu_unempytott</th>\n",
              "      <th>vdem_corr</th>\n",
              "      <th>who_matmort</th>\n",
              "      <th>wdi_birthregr</th>\n",
              "      <th>aii_aio</th>\n",
              "      <th>fao_luforreg</th>\n",
              "      <th>wdi_homicides</th>\n",
              "      <th>iiag_pri</th>\n",
              "      <th>wdi_nerpr</th>\n",
              "      <th>oecd_selfempl_t1a</th>\n",
              "      <th>gggi_ggi</th>\n",
              "      <th>wdi_death</th>\n",
              "      <th>eu_sctsf</th>\n",
              "      <th>bti_poa</th>\n",
              "      <th>aii_q21</th>\n",
              "      <th>oecd_fdindex_t1d</th>\n",
              "      <th>oecd_socexpnd_t1b</th>\n",
              "      <th>wdi_agrland</th>\n",
              "      <th>wwbi_psepemp</th>\n",
              "      <th>wdi_incsh10h</th>\n",
              "      <th>eu_sctdfm</th>\n",
              "      <th>oecd_tiva_inter_t1e</th>\n",
              "      <th>oecd_svctrade_t2</th>\n",
              "      <th>wdi_empind</th>\n",
              "    </tr>\n",
              "  </thead>\n",
              "  <tbody>\n",
              "    <tr>\n",
              "      <th>0</th>\n",
              "      <td>NaN</td>\n",
              "      <td>0.785092</td>\n",
              "      <td>0.0</td>\n",
              "      <td>NaN</td>\n",
              "      <td>NaN</td>\n",
              "      <td>NaN</td>\n",
              "      <td>NaN</td>\n",
              "      <td>NaN</td>\n",
              "      <td>0.9</td>\n",
              "      <td>12.96</td>\n",
              "      <td>NaN</td>\n",
              "      <td>NaN</td>\n",
              "      <td>NaN</td>\n",
              "      <td>0.0</td>\n",
              "      <td>100.460883</td>\n",
              "      <td>NaN</td>\n",
              "      <td>124.0</td>\n",
              "      <td>1.375000</td>\n",
              "      <td>15.94715</td>\n",
              "      <td>NaN</td>\n",
              "      <td>1.0</td>\n",
              "      <td>NaN</td>\n",
              "      <td>NaN</td>\n",
              "      <td>NaN</td>\n",
              "      <td>0.0</td>\n",
              "      <td>2.461</td>\n",
              "      <td>480.0</td>\n",
              "      <td>16.758400</td>\n",
              "      <td>7.291169</td>\n",
              "      <td>25.777</td>\n",
              "      <td>15924.389</td>\n",
              "      <td>NaN</td>\n",
              "      <td>56.48</td>\n",
              "      <td>1.0</td>\n",
              "      <td>NaN</td>\n",
              "      <td>NaN</td>\n",
              "      <td>NaN</td>\n",
              "      <td>0.0</td>\n",
              "      <td>13.59</td>\n",
              "      <td>1.262166</td>\n",
              "      <td>...</td>\n",
              "      <td>1124.7</td>\n",
              "      <td>72.173378</td>\n",
              "      <td>NaN</td>\n",
              "      <td>477609.94000</td>\n",
              "      <td>NaN</td>\n",
              "      <td>NaN</td>\n",
              "      <td>NaN</td>\n",
              "      <td>84.141663</td>\n",
              "      <td>NaN</td>\n",
              "      <td>NaN</td>\n",
              "      <td>1.0</td>\n",
              "      <td>NaN</td>\n",
              "      <td>NaN</td>\n",
              "      <td>NaN</td>\n",
              "      <td>2.0</td>\n",
              "      <td>NaN</td>\n",
              "      <td>NaN</td>\n",
              "      <td>0.095</td>\n",
              "      <td>9.0</td>\n",
              "      <td>NaN</td>\n",
              "      <td>NaN</td>\n",
              "      <td>58.470001</td>\n",
              "      <td>0.531664</td>\n",
              "      <td>NaN</td>\n",
              "      <td>NaN</td>\n",
              "      <td>18.33397</td>\n",
              "      <td>NaN</td>\n",
              "      <td>7.700</td>\n",
              "      <td>NaN</td>\n",
              "      <td>NaN</td>\n",
              "      <td>NaN</td>\n",
              "      <td>NaN</td>\n",
              "      <td>3.504</td>\n",
              "      <td>NaN</td>\n",
              "      <td>NaN</td>\n",
              "      <td>NaN</td>\n",
              "      <td>NaN</td>\n",
              "      <td>13.47</td>\n",
              "      <td>118.2412</td>\n",
              "      <td>31.419001</td>\n",
              "    </tr>\n",
              "    <tr>\n",
              "      <th>1</th>\n",
              "      <td>NaN</td>\n",
              "      <td>0.689219</td>\n",
              "      <td>NaN</td>\n",
              "      <td>NaN</td>\n",
              "      <td>NaN</td>\n",
              "      <td>NaN</td>\n",
              "      <td>NaN</td>\n",
              "      <td>NaN</td>\n",
              "      <td>4.8</td>\n",
              "      <td>8.07</td>\n",
              "      <td>NaN</td>\n",
              "      <td>NaN</td>\n",
              "      <td>NaN</td>\n",
              "      <td>NaN</td>\n",
              "      <td>NaN</td>\n",
              "      <td>NaN</td>\n",
              "      <td>NaN</td>\n",
              "      <td>0.000000</td>\n",
              "      <td>NaN</td>\n",
              "      <td>NaN</td>\n",
              "      <td>3.0</td>\n",
              "      <td>NaN</td>\n",
              "      <td>NaN</td>\n",
              "      <td>NaN</td>\n",
              "      <td>NaN</td>\n",
              "      <td>-0.766</td>\n",
              "      <td>NaN</td>\n",
              "      <td>12.056909</td>\n",
              "      <td>NaN</td>\n",
              "      <td>NaN</td>\n",
              "      <td>NaN</td>\n",
              "      <td>NaN</td>\n",
              "      <td>NaN</td>\n",
              "      <td>NaN</td>\n",
              "      <td>NaN</td>\n",
              "      <td>NaN</td>\n",
              "      <td>NaN</td>\n",
              "      <td>0.0</td>\n",
              "      <td>6.97</td>\n",
              "      <td>-0.401754</td>\n",
              "      <td>...</td>\n",
              "      <td>255.4</td>\n",
              "      <td>60.667088</td>\n",
              "      <td>NaN</td>\n",
              "      <td>62067.59000</td>\n",
              "      <td>NaN</td>\n",
              "      <td>NaN</td>\n",
              "      <td>NaN</td>\n",
              "      <td>70.371399</td>\n",
              "      <td>NaN</td>\n",
              "      <td>NaN</td>\n",
              "      <td>1.0</td>\n",
              "      <td>NaN</td>\n",
              "      <td>NaN</td>\n",
              "      <td>NaN</td>\n",
              "      <td>2.0</td>\n",
              "      <td>NaN</td>\n",
              "      <td>NaN</td>\n",
              "      <td>0.788</td>\n",
              "      <td>272.0</td>\n",
              "      <td>NaN</td>\n",
              "      <td>NaN</td>\n",
              "      <td>96.199997</td>\n",
              "      <td>1.042012</td>\n",
              "      <td>NaN</td>\n",
              "      <td>NaN</td>\n",
              "      <td>NaN</td>\n",
              "      <td>NaN</td>\n",
              "      <td>7.475</td>\n",
              "      <td>NaN</td>\n",
              "      <td>NaN</td>\n",
              "      <td>NaN</td>\n",
              "      <td>NaN</td>\n",
              "      <td>NaN</td>\n",
              "      <td>NaN</td>\n",
              "      <td>NaN</td>\n",
              "      <td>24.4</td>\n",
              "      <td>NaN</td>\n",
              "      <td>38.82</td>\n",
              "      <td>NaN</td>\n",
              "      <td>17.434000</td>\n",
              "    </tr>\n",
              "    <tr>\n",
              "      <th>2</th>\n",
              "      <td>NaN</td>\n",
              "      <td>1.254967</td>\n",
              "      <td>NaN</td>\n",
              "      <td>NaN</td>\n",
              "      <td>NaN</td>\n",
              "      <td>NaN</td>\n",
              "      <td>NaN</td>\n",
              "      <td>NaN</td>\n",
              "      <td>0.0</td>\n",
              "      <td>2.51</td>\n",
              "      <td>NaN</td>\n",
              "      <td>NaN</td>\n",
              "      <td>NaN</td>\n",
              "      <td>NaN</td>\n",
              "      <td>NaN</td>\n",
              "      <td>NaN</td>\n",
              "      <td>NaN</td>\n",
              "      <td>0.096386</td>\n",
              "      <td>NaN</td>\n",
              "      <td>NaN</td>\n",
              "      <td>3.0</td>\n",
              "      <td>NaN</td>\n",
              "      <td>NaN</td>\n",
              "      <td>NaN</td>\n",
              "      <td>NaN</td>\n",
              "      <td>-0.761</td>\n",
              "      <td>NaN</td>\n",
              "      <td>6.094576</td>\n",
              "      <td>NaN</td>\n",
              "      <td>NaN</td>\n",
              "      <td>NaN</td>\n",
              "      <td>NaN</td>\n",
              "      <td>NaN</td>\n",
              "      <td>1.0</td>\n",
              "      <td>NaN</td>\n",
              "      <td>NaN</td>\n",
              "      <td>NaN</td>\n",
              "      <td>0.0</td>\n",
              "      <td>0.88</td>\n",
              "      <td>-0.261979</td>\n",
              "      <td>...</td>\n",
              "      <td>NaN</td>\n",
              "      <td>49.148220</td>\n",
              "      <td>NaN</td>\n",
              "      <td>535.96002</td>\n",
              "      <td>NaN</td>\n",
              "      <td>NaN</td>\n",
              "      <td>NaN</td>\n",
              "      <td>56.679401</td>\n",
              "      <td>NaN</td>\n",
              "      <td>NaN</td>\n",
              "      <td>1.0</td>\n",
              "      <td>NaN</td>\n",
              "      <td>NaN</td>\n",
              "      <td>NaN</td>\n",
              "      <td>2.0</td>\n",
              "      <td>NaN</td>\n",
              "      <td>NaN</td>\n",
              "      <td>0.635</td>\n",
              "      <td>813.0</td>\n",
              "      <td>NaN</td>\n",
              "      <td>NaN</td>\n",
              "      <td>94.500000</td>\n",
              "      <td>NaN</td>\n",
              "      <td>NaN</td>\n",
              "      <td>26.89543</td>\n",
              "      <td>NaN</td>\n",
              "      <td>NaN</td>\n",
              "      <td>17.234</td>\n",
              "      <td>NaN</td>\n",
              "      <td>NaN</td>\n",
              "      <td>NaN</td>\n",
              "      <td>NaN</td>\n",
              "      <td>NaN</td>\n",
              "      <td>NaN</td>\n",
              "      <td>NaN</td>\n",
              "      <td>NaN</td>\n",
              "      <td>NaN</td>\n",
              "      <td>NaN</td>\n",
              "      <td>NaN</td>\n",
              "      <td>8.597000</td>\n",
              "    </tr>\n",
              "    <tr>\n",
              "      <th>3</th>\n",
              "      <td>NaN</td>\n",
              "      <td>1.201079</td>\n",
              "      <td>NaN</td>\n",
              "      <td>NaN</td>\n",
              "      <td>NaN</td>\n",
              "      <td>NaN</td>\n",
              "      <td>NaN</td>\n",
              "      <td>NaN</td>\n",
              "      <td>21.4</td>\n",
              "      <td>8.56</td>\n",
              "      <td>NaN</td>\n",
              "      <td>NaN</td>\n",
              "      <td>NaN</td>\n",
              "      <td>NaN</td>\n",
              "      <td>NaN</td>\n",
              "      <td>NaN</td>\n",
              "      <td>NaN</td>\n",
              "      <td>1.000000</td>\n",
              "      <td>NaN</td>\n",
              "      <td>NaN</td>\n",
              "      <td>6.0</td>\n",
              "      <td>NaN</td>\n",
              "      <td>NaN</td>\n",
              "      <td>NaN</td>\n",
              "      <td>NaN</td>\n",
              "      <td>-1.417</td>\n",
              "      <td>150.0</td>\n",
              "      <td>25.038029</td>\n",
              "      <td>NaN</td>\n",
              "      <td>NaN</td>\n",
              "      <td>NaN</td>\n",
              "      <td>NaN</td>\n",
              "      <td>NaN</td>\n",
              "      <td>NaN</td>\n",
              "      <td>NaN</td>\n",
              "      <td>NaN</td>\n",
              "      <td>20.0</td>\n",
              "      <td>0.0</td>\n",
              "      <td>7.71</td>\n",
              "      <td>-1.092045</td>\n",
              "      <td>...</td>\n",
              "      <td>NaN</td>\n",
              "      <td>44.228897</td>\n",
              "      <td>NaN</td>\n",
              "      <td>2026.37000</td>\n",
              "      <td>NaN</td>\n",
              "      <td>NaN</td>\n",
              "      <td>NaN</td>\n",
              "      <td>50.725620</td>\n",
              "      <td>NaN</td>\n",
              "      <td>NaN</td>\n",
              "      <td>NaN</td>\n",
              "      <td>NaN</td>\n",
              "      <td>NaN</td>\n",
              "      <td>NaN</td>\n",
              "      <td>2.0</td>\n",
              "      <td>NaN</td>\n",
              "      <td>NaN</td>\n",
              "      <td>0.844</td>\n",
              "      <td>579.0</td>\n",
              "      <td>NaN</td>\n",
              "      <td>NaN</td>\n",
              "      <td>99.349998</td>\n",
              "      <td>NaN</td>\n",
              "      <td>NaN</td>\n",
              "      <td>89.50339</td>\n",
              "      <td>NaN</td>\n",
              "      <td>NaN</td>\n",
              "      <td>16.534</td>\n",
              "      <td>NaN</td>\n",
              "      <td>NaN</td>\n",
              "      <td>NaN</td>\n",
              "      <td>NaN</td>\n",
              "      <td>NaN</td>\n",
              "      <td>NaN</td>\n",
              "      <td>NaN</td>\n",
              "      <td>NaN</td>\n",
              "      <td>NaN</td>\n",
              "      <td>NaN</td>\n",
              "      <td>NaN</td>\n",
              "      <td>11.547000</td>\n",
              "    </tr>\n",
              "    <tr>\n",
              "      <th>4</th>\n",
              "      <td>NaN</td>\n",
              "      <td>NaN</td>\n",
              "      <td>NaN</td>\n",
              "      <td>NaN</td>\n",
              "      <td>NaN</td>\n",
              "      <td>NaN</td>\n",
              "      <td>NaN</td>\n",
              "      <td>NaN</td>\n",
              "      <td>18.6</td>\n",
              "      <td>4.85</td>\n",
              "      <td>NaN</td>\n",
              "      <td>NaN</td>\n",
              "      <td>NaN</td>\n",
              "      <td>NaN</td>\n",
              "      <td>NaN</td>\n",
              "      <td>NaN</td>\n",
              "      <td>NaN</td>\n",
              "      <td>NaN</td>\n",
              "      <td>NaN</td>\n",
              "      <td>NaN</td>\n",
              "      <td>3.0</td>\n",
              "      <td>NaN</td>\n",
              "      <td>NaN</td>\n",
              "      <td>NaN</td>\n",
              "      <td>NaN</td>\n",
              "      <td>-2.471</td>\n",
              "      <td>NaN</td>\n",
              "      <td>8.501144</td>\n",
              "      <td>NaN</td>\n",
              "      <td>NaN</td>\n",
              "      <td>NaN</td>\n",
              "      <td>NaN</td>\n",
              "      <td>NaN</td>\n",
              "      <td>1.0</td>\n",
              "      <td>NaN</td>\n",
              "      <td>NaN</td>\n",
              "      <td>3.0</td>\n",
              "      <td>0.0</td>\n",
              "      <td>2.73</td>\n",
              "      <td>-1.090604</td>\n",
              "      <td>...</td>\n",
              "      <td>NaN</td>\n",
              "      <td>51.295361</td>\n",
              "      <td>NaN</td>\n",
              "      <td>1595.59000</td>\n",
              "      <td>NaN</td>\n",
              "      <td>NaN</td>\n",
              "      <td>NaN</td>\n",
              "      <td>60.810169</td>\n",
              "      <td>NaN</td>\n",
              "      <td>NaN</td>\n",
              "      <td>NaN</td>\n",
              "      <td>NaN</td>\n",
              "      <td>NaN</td>\n",
              "      <td>NaN</td>\n",
              "      <td>2.0</td>\n",
              "      <td>NaN</td>\n",
              "      <td>NaN</td>\n",
              "      <td>0.917</td>\n",
              "      <td>894.0</td>\n",
              "      <td>NaN</td>\n",
              "      <td>NaN</td>\n",
              "      <td>99.879997</td>\n",
              "      <td>NaN</td>\n",
              "      <td>NaN</td>\n",
              "      <td>NaN</td>\n",
              "      <td>NaN</td>\n",
              "      <td>NaN</td>\n",
              "      <td>14.973</td>\n",
              "      <td>NaN</td>\n",
              "      <td>NaN</td>\n",
              "      <td>NaN</td>\n",
              "      <td>NaN</td>\n",
              "      <td>NaN</td>\n",
              "      <td>NaN</td>\n",
              "      <td>NaN</td>\n",
              "      <td>NaN</td>\n",
              "      <td>NaN</td>\n",
              "      <td>NaN</td>\n",
              "      <td>NaN</td>\n",
              "      <td>11.306000</td>\n",
              "    </tr>\n",
              "  </tbody>\n",
              "</table>\n",
              "<p>5 rows × 1864 columns</p>\n",
              "</div>"
            ],
            "text/plain": [
              "   bti_ba   prp_std  ...  oecd_svctrade_t2  wdi_empind\n",
              "0     NaN  0.785092  ...          118.2412   31.419001\n",
              "1     NaN  0.689219  ...               NaN   17.434000\n",
              "2     NaN  1.254967  ...               NaN    8.597000\n",
              "3     NaN  1.201079  ...               NaN   11.547000\n",
              "4     NaN       NaN  ...               NaN   11.306000\n",
              "\n",
              "[5 rows x 1864 columns]"
            ]
          },
          "metadata": {},
          "execution_count": 5
        }
      ]
    },
    {
      "cell_type": "markdown",
      "metadata": {
        "id": "p75jJaTOgWys"
      },
      "source": [
        "More detailed descriptions of the variables can be found in the QoG codebook (https://www.qogdata.pol.gu.se/data/codebook_bas_jan21.pdf), but for our instances we are going to explore the data as is. From the above, you can see we have 15825 instances and 1864 variables, which is a considerably large dataset. To reduce dimensionality, we will only be concerned with 2000 onwards. This is theoretically justified, because we want to visualize a snapshot of influence in the last 22 years. Earlier data, while important, features greater variability as the result of regime changes, shifts in power, and technological advances that cannot be accurately accounted for. We are only concerned with a subset of variables concerned with conflict, history, and migration for our model. "
      ]
    },
    {
      "cell_type": "code",
      "metadata": {
        "id": "UHoL31dcg9dv"
      },
      "source": [
        "var_list = ['cname', 'year', 'ccodecow','ajr_settmort','atop_consult','atop_defensive','atop_neutrality','atop_nonagg','atop_number','atop_offensive','bicc_gmi','bicc_hw','bicc_milexp','bicc_mileper','bmr_demdur','bti_ci','bti_cst','bti_muf','eu_demcnmigratn','eu_imm118t','eu_imm118f','eu_imm118m','eu_imm1824f','eu_imm1824m','eu_imm1824t','eu_imm2534f','eu_imm2534m','eu_imm2534t','eu_imm3564f','eu_imm3564m','eu_imm3564t','eu_imm65f','eu_imm65m','eu_imm65t','ffp_ext','ffp_gg','ffp_hf','ffp_ref','ffp_sec','gcb_pmil','gd_ptsa','gd_ptsh','gd_ptss','gfs_def','gpi_conf','gpi_dic','gpi_mil','gtr_centaxdir1900','gtr_centaxgdp1900','gtr_centaxind1900','gtr_centaxtot1850','gtr_centaxtot1900','ht_colonial','iaep_epmf','iaep_milo','icd_infcapirt1750','icd_infcapirt1800','icd_infcapirt1850','icd_infcapirt1900','mad_gdppc1900','nelda_rpae','nelda_vcdbe','oecd_gengovdistri_t1b','oecd_migforpop_t1a','oecd_migforpop_t1b','oecd_netmigr_t1a','oecd_netmigr_t1b','oecd_netmigr_t1c','oecd_netmigr_t1d','oecd_netmigr_t1e','oecd_netmigr_t1f','oecd_netmigr_t1g','r_atlas','r_elf61','r_elf85','r_muller','r_roberts','svs_ind','ucdp_type2','ucdp_type3','ucdp_type4','voh_gti','wbgi_pve','wbgi_pvn','wbgi_pvs','wdi_afp','wdi_afpt','wdi_armexp','wdi_armimp','wdi_brdeath','wdi_expmil','wdi_expmilge','wdi_idpdis','wdi_idpvc','wdi_idpvp','wdi_imig','wdi_migration','wdi_peacekeep','wdi_refasy','wdi_refori',\n",
        "            'wgov_minmil','wgov_totmil','wvs_confaf','wvs_fight','wvs_psarmy']\n",
        "qog = qog[qog.columns[np.where(qog.columns.isin(var_list))]]\n",
        "qog.rename(columns = {'ccodecow':'COWcode', 'cname':'country_name'}, inplace = True)"
      ],
      "execution_count": null,
      "outputs": []
    },
    {
      "cell_type": "markdown",
      "metadata": {
        "id": "T5zIEVDA503g"
      },
      "source": [
        "**Digital Society Project** \n",
        "\n",
        "The Digital Society Project (DSP) features data from a global survey of country and area experts. It contains features corresponding to 35 indicators, with topics relating to online censorship, polarization and politicization of social media, misinformation campaigns, coordinated information operations, foreign influence in and monitoring of domestic politics, and more. \n",
        " "
      ]
    },
    {
      "cell_type": "code",
      "metadata": {
        "id": "9vRL-KMr6KiC"
      },
      "source": [
        "#Connect to collection\n",
        "dsp = db.collection('DSP')\n",
        "\n",
        "#Query dates past 2000, stream to dict of dicts, create dataframe\n",
        "dsp_doc = dsp.where('year','>=',2000).stream()\n",
        "dsp_dict = list(map(lambda x:x.to_dict(),dsp_doc))\n",
        "dsp = pd.DataFrame(dsp_dict)"
      ],
      "execution_count": null,
      "outputs": []
    },
    {
      "cell_type": "code",
      "metadata": {
        "colab": {
          "base_uri": "https://localhost:8080/",
          "height": 270
        },
        "id": "659JpbE5GGEe",
        "outputId": "940b28fa-540e-49be-bda2-a5a9f383f4f3"
      },
      "source": [
        "df = dsp.merge(qog, how = 'inner', on = ['COWcode', 'year', 'country_name'])\n",
        "df.drop(columns = df.columns[4:20], inplace = True)\n",
        "df.drop(columns = ['country_text_id', 'country_id'], inplace = True)\n",
        "print(df.shape)\n",
        "df.head()"
      ],
      "execution_count": null,
      "outputs": [
        {
          "output_type": "stream",
          "name": "stdout",
          "text": [
            "(3286, 556)\n"
          ]
        },
        {
          "output_type": "execute_result",
          "data": {
            "text/html": [
              "<div>\n",
              "<style scoped>\n",
              "    .dataframe tbody tr th:only-of-type {\n",
              "        vertical-align: middle;\n",
              "    }\n",
              "\n",
              "    .dataframe tbody tr th {\n",
              "        vertical-align: top;\n",
              "    }\n",
              "\n",
              "    .dataframe thead th {\n",
              "        text-align: right;\n",
              "    }\n",
              "</style>\n",
              "<table border=\"1\" class=\"dataframe\">\n",
              "  <thead>\n",
              "    <tr style=\"text-align: right;\">\n",
              "      <th></th>\n",
              "      <th>v2smgovsmalt_osp</th>\n",
              "      <th>v2smonper_osp_sd</th>\n",
              "      <th>v2smgovfilprc_osp_sd</th>\n",
              "      <th>v2smcamp_osp_codehigh</th>\n",
              "      <th>historical</th>\n",
              "      <th>v2smpardom_ord</th>\n",
              "      <th>v2smlawpr_osp_sd</th>\n",
              "      <th>v2smregcon_osp_codelow</th>\n",
              "      <th>v2smprivcon</th>\n",
              "      <th>v2smhargr_8</th>\n",
              "      <th>v2smarrest_ord_codehigh</th>\n",
              "      <th>v2smgovfilprc_nr</th>\n",
              "      <th>v2smonper_mean</th>\n",
              "      <th>v2smprivex_codehigh</th>\n",
              "      <th>v2smorgavgact_mean</th>\n",
              "      <th>v2smgovsmalt_osp_codelow</th>\n",
              "      <th>v2smforads_ord</th>\n",
              "      <th>v2smregapp</th>\n",
              "      <th>v2smcamp_codelow</th>\n",
              "      <th>v2smgovsmalt_ord_codehigh</th>\n",
              "      <th>v2smregcap_sd</th>\n",
              "      <th>v2smgovsmmon_nr</th>\n",
              "      <th>v2smgovsmmon_mean</th>\n",
              "      <th>v2smregcon_codelow</th>\n",
              "      <th>v2smorgviol_codelow</th>\n",
              "      <th>v2smprivcon_mean</th>\n",
              "      <th>v2smregcon_mean</th>\n",
              "      <th>codingend_contemp</th>\n",
              "      <th>v2smgovfilcap_osp_codehigh</th>\n",
              "      <th>gapstart1</th>\n",
              "      <th>gapstart3</th>\n",
              "      <th>v2smcamp_osp_codelow</th>\n",
              "      <th>v2smgovsmcenprc_osp_codehigh</th>\n",
              "      <th>v2smgovab_ord</th>\n",
              "      <th>v2smpolhate_ord_codehigh</th>\n",
              "      <th>v2smgovsmmon_osp_sd</th>\n",
              "      <th>v2smparab_osp_codelow</th>\n",
              "      <th>v2smgovsmcenprc_mean</th>\n",
              "      <th>v2smgovfilcap_osp_sd</th>\n",
              "      <th>v2smgovshut_codehigh</th>\n",
              "      <th>...</th>\n",
              "      <th>nelda_rpae</th>\n",
              "      <th>wvs_confaf</th>\n",
              "      <th>bicc_hw</th>\n",
              "      <th>wdi_armexp</th>\n",
              "      <th>ffp_ext</th>\n",
              "      <th>wdi_brdeath</th>\n",
              "      <th>ajr_settmort</th>\n",
              "      <th>atop_neutrality</th>\n",
              "      <th>gtr_centaxgdp1900</th>\n",
              "      <th>gcb_pmil</th>\n",
              "      <th>wdi_idpdis</th>\n",
              "      <th>eu_imm118f</th>\n",
              "      <th>eu_imm118t</th>\n",
              "      <th>gd_ptsa</th>\n",
              "      <th>atop_consult</th>\n",
              "      <th>wdi_imig</th>\n",
              "      <th>eu_imm2534f</th>\n",
              "      <th>oecd_netmigr_t1a</th>\n",
              "      <th>icd_infcapirt1900</th>\n",
              "      <th>r_elf61</th>\n",
              "      <th>iaep_milo</th>\n",
              "      <th>ucdp_type4</th>\n",
              "      <th>nelda_vcdbe</th>\n",
              "      <th>eu_imm1824m</th>\n",
              "      <th>wdi_expmil</th>\n",
              "      <th>ffp_gg</th>\n",
              "      <th>ffp_sec</th>\n",
              "      <th>wbgi_pvs</th>\n",
              "      <th>eu_imm1824f</th>\n",
              "      <th>oecd_netmigr_t1f</th>\n",
              "      <th>ffp_hf</th>\n",
              "      <th>bti_muf</th>\n",
              "      <th>ht_colonial</th>\n",
              "      <th>wvs_psarmy</th>\n",
              "      <th>atop_nonagg</th>\n",
              "      <th>gpi_mil</th>\n",
              "      <th>eu_imm1824t</th>\n",
              "      <th>oecd_netmigr_t1e</th>\n",
              "      <th>oecd_gengovdistri_t1b</th>\n",
              "      <th>wdi_idpvc</th>\n",
              "    </tr>\n",
              "  </thead>\n",
              "  <tbody>\n",
              "    <tr>\n",
              "      <th>0</th>\n",
              "      <td>1.837</td>\n",
              "      <td>0.262</td>\n",
              "      <td>0.395</td>\n",
              "      <td>2.314</td>\n",
              "      <td>0</td>\n",
              "      <td>3</td>\n",
              "      <td>0.347</td>\n",
              "      <td>0.608</td>\n",
              "      <td>-2.220</td>\n",
              "      <td>0.250</td>\n",
              "      <td>1</td>\n",
              "      <td>4</td>\n",
              "      <td>3.000</td>\n",
              "      <td>-0.863</td>\n",
              "      <td>2.500</td>\n",
              "      <td>1.350</td>\n",
              "      <td>3</td>\n",
              "      <td>-0.456</td>\n",
              "      <td>-1.150</td>\n",
              "      <td>2</td>\n",
              "      <td>0.501</td>\n",
              "      <td>4</td>\n",
              "      <td>1.500</td>\n",
              "      <td>-2.320</td>\n",
              "      <td>-0.702</td>\n",
              "      <td>0.000</td>\n",
              "      <td>1.50</td>\n",
              "      <td>2020</td>\n",
              "      <td>2.014</td>\n",
              "      <td>NaN</td>\n",
              "      <td>NaN</td>\n",
              "      <td>1.772</td>\n",
              "      <td>3.200</td>\n",
              "      <td>3</td>\n",
              "      <td>3</td>\n",
              "      <td>0.361</td>\n",
              "      <td>2.651</td>\n",
              "      <td>2.75</td>\n",
              "      <td>0.464</td>\n",
              "      <td>0.961</td>\n",
              "      <td>...</td>\n",
              "      <td>NaN</td>\n",
              "      <td>NaN</td>\n",
              "      <td>1.15</td>\n",
              "      <td>NaN</td>\n",
              "      <td>NaN</td>\n",
              "      <td>NaN</td>\n",
              "      <td>5.63479</td>\n",
              "      <td>0.0</td>\n",
              "      <td>NaN</td>\n",
              "      <td>NaN</td>\n",
              "      <td>NaN</td>\n",
              "      <td>NaN</td>\n",
              "      <td>NaN</td>\n",
              "      <td>3.0</td>\n",
              "      <td>1.0</td>\n",
              "      <td>2.115717</td>\n",
              "      <td>NaN</td>\n",
              "      <td>NaN</td>\n",
              "      <td>NaN</td>\n",
              "      <td>0.341</td>\n",
              "      <td>1.0</td>\n",
              "      <td>NaN</td>\n",
              "      <td>NaN</td>\n",
              "      <td>NaN</td>\n",
              "      <td>2.928005</td>\n",
              "      <td>NaN</td>\n",
              "      <td>NaN</td>\n",
              "      <td>0.455642</td>\n",
              "      <td>NaN</td>\n",
              "      <td>NaN</td>\n",
              "      <td>NaN</td>\n",
              "      <td>NaN</td>\n",
              "      <td>6.0</td>\n",
              "      <td>NaN</td>\n",
              "      <td>1.0</td>\n",
              "      <td>NaN</td>\n",
              "      <td>NaN</td>\n",
              "      <td>NaN</td>\n",
              "      <td>NaN</td>\n",
              "      <td>NaN</td>\n",
              "    </tr>\n",
              "    <tr>\n",
              "      <th>1</th>\n",
              "      <td>2.472</td>\n",
              "      <td>0.347</td>\n",
              "      <td>0.246</td>\n",
              "      <td>1.446</td>\n",
              "      <td>0</td>\n",
              "      <td>2</td>\n",
              "      <td>0.399</td>\n",
              "      <td>1.195</td>\n",
              "      <td>-1.532</td>\n",
              "      <td>0.750</td>\n",
              "      <td>1</td>\n",
              "      <td>8</td>\n",
              "      <td>1.571</td>\n",
              "      <td>-0.371</td>\n",
              "      <td>1.250</td>\n",
              "      <td>2.242</td>\n",
              "      <td>3</td>\n",
              "      <td>-0.710</td>\n",
              "      <td>-2.746</td>\n",
              "      <td>3</td>\n",
              "      <td>0.623</td>\n",
              "      <td>7</td>\n",
              "      <td>2.000</td>\n",
              "      <td>-1.685</td>\n",
              "      <td>-1.438</td>\n",
              "      <td>1.333</td>\n",
              "      <td>1.75</td>\n",
              "      <td>2020</td>\n",
              "      <td>2.030</td>\n",
              "      <td>NaN</td>\n",
              "      <td>NaN</td>\n",
              "      <td>0.657</td>\n",
              "      <td>2.406</td>\n",
              "      <td>1</td>\n",
              "      <td>1</td>\n",
              "      <td>0.238</td>\n",
              "      <td>2.010</td>\n",
              "      <td>2.00</td>\n",
              "      <td>0.336</td>\n",
              "      <td>-1.087</td>\n",
              "      <td>...</td>\n",
              "      <td>NaN</td>\n",
              "      <td>NaN</td>\n",
              "      <td>0.04</td>\n",
              "      <td>NaN</td>\n",
              "      <td>NaN</td>\n",
              "      <td>268.0</td>\n",
              "      <td>NaN</td>\n",
              "      <td>0.0</td>\n",
              "      <td>NaN</td>\n",
              "      <td>NaN</td>\n",
              "      <td>NaN</td>\n",
              "      <td>NaN</td>\n",
              "      <td>NaN</td>\n",
              "      <td>4.0</td>\n",
              "      <td>0.0</td>\n",
              "      <td>3.023992</td>\n",
              "      <td>NaN</td>\n",
              "      <td>NaN</td>\n",
              "      <td>0.000000</td>\n",
              "      <td>0.699</td>\n",
              "      <td>0.0</td>\n",
              "      <td>NaN</td>\n",
              "      <td>NaN</td>\n",
              "      <td>NaN</td>\n",
              "      <td>0.962150</td>\n",
              "      <td>NaN</td>\n",
              "      <td>NaN</td>\n",
              "      <td>0.455642</td>\n",
              "      <td>NaN</td>\n",
              "      <td>NaN</td>\n",
              "      <td>NaN</td>\n",
              "      <td>NaN</td>\n",
              "      <td>0.0</td>\n",
              "      <td>NaN</td>\n",
              "      <td>1.0</td>\n",
              "      <td>NaN</td>\n",
              "      <td>NaN</td>\n",
              "      <td>NaN</td>\n",
              "      <td>NaN</td>\n",
              "      <td>NaN</td>\n",
              "    </tr>\n",
              "    <tr>\n",
              "      <th>2</th>\n",
              "      <td>1.684</td>\n",
              "      <td>0.429</td>\n",
              "      <td>0.341</td>\n",
              "      <td>0.555</td>\n",
              "      <td>0</td>\n",
              "      <td>3</td>\n",
              "      <td>0.407</td>\n",
              "      <td>1.360</td>\n",
              "      <td>-0.548</td>\n",
              "      <td>0.000</td>\n",
              "      <td>1</td>\n",
              "      <td>4</td>\n",
              "      <td>1.333</td>\n",
              "      <td>-0.581</td>\n",
              "      <td>0.500</td>\n",
              "      <td>1.411</td>\n",
              "      <td>2</td>\n",
              "      <td>-1.532</td>\n",
              "      <td>-4.021</td>\n",
              "      <td>2</td>\n",
              "      <td>0.771</td>\n",
              "      <td>4</td>\n",
              "      <td>2.500</td>\n",
              "      <td>-1.588</td>\n",
              "      <td>0.169</td>\n",
              "      <td>4.000</td>\n",
              "      <td>2.75</td>\n",
              "      <td>2020</td>\n",
              "      <td>0.662</td>\n",
              "      <td>NaN</td>\n",
              "      <td>NaN</td>\n",
              "      <td>0.035</td>\n",
              "      <td>2.812</td>\n",
              "      <td>3</td>\n",
              "      <td>3</td>\n",
              "      <td>0.293</td>\n",
              "      <td>1.053</td>\n",
              "      <td>2.75</td>\n",
              "      <td>0.305</td>\n",
              "      <td>-0.569</td>\n",
              "      <td>...</td>\n",
              "      <td>NaN</td>\n",
              "      <td>NaN</td>\n",
              "      <td>NaN</td>\n",
              "      <td>NaN</td>\n",
              "      <td>NaN</td>\n",
              "      <td>NaN</td>\n",
              "      <td>NaN</td>\n",
              "      <td>NaN</td>\n",
              "      <td>NaN</td>\n",
              "      <td>NaN</td>\n",
              "      <td>NaN</td>\n",
              "      <td>NaN</td>\n",
              "      <td>NaN</td>\n",
              "      <td>2.0</td>\n",
              "      <td>NaN</td>\n",
              "      <td>5.696161</td>\n",
              "      <td>NaN</td>\n",
              "      <td>NaN</td>\n",
              "      <td>NaN</td>\n",
              "      <td>0.680</td>\n",
              "      <td>0.0</td>\n",
              "      <td>NaN</td>\n",
              "      <td>NaN</td>\n",
              "      <td>NaN</td>\n",
              "      <td>NaN</td>\n",
              "      <td>NaN</td>\n",
              "      <td>NaN</td>\n",
              "      <td>0.455642</td>\n",
              "      <td>NaN</td>\n",
              "      <td>NaN</td>\n",
              "      <td>NaN</td>\n",
              "      <td>NaN</td>\n",
              "      <td>5.0</td>\n",
              "      <td>NaN</td>\n",
              "      <td>NaN</td>\n",
              "      <td>NaN</td>\n",
              "      <td>NaN</td>\n",
              "      <td>NaN</td>\n",
              "      <td>NaN</td>\n",
              "      <td>NaN</td>\n",
              "    </tr>\n",
              "    <tr>\n",
              "      <th>3</th>\n",
              "      <td>1.521</td>\n",
              "      <td>0.440</td>\n",
              "      <td>0.326</td>\n",
              "      <td>2.334</td>\n",
              "      <td>0</td>\n",
              "      <td>2</td>\n",
              "      <td>0.461</td>\n",
              "      <td>2.765</td>\n",
              "      <td>0.804</td>\n",
              "      <td>0.400</td>\n",
              "      <td>1</td>\n",
              "      <td>5</td>\n",
              "      <td>2.667</td>\n",
              "      <td>-0.235</td>\n",
              "      <td>1.200</td>\n",
              "      <td>1.112</td>\n",
              "      <td>3</td>\n",
              "      <td>0.074</td>\n",
              "      <td>-1.389</td>\n",
              "      <td>2</td>\n",
              "      <td>0.526</td>\n",
              "      <td>5</td>\n",
              "      <td>2.200</td>\n",
              "      <td>-0.014</td>\n",
              "      <td>-0.475</td>\n",
              "      <td>3.500</td>\n",
              "      <td>3.20</td>\n",
              "      <td>2020</td>\n",
              "      <td>1.909</td>\n",
              "      <td>NaN</td>\n",
              "      <td>NaN</td>\n",
              "      <td>1.576</td>\n",
              "      <td>3.069</td>\n",
              "      <td>2</td>\n",
              "      <td>2</td>\n",
              "      <td>0.302</td>\n",
              "      <td>2.037</td>\n",
              "      <td>2.60</td>\n",
              "      <td>0.272</td>\n",
              "      <td>-0.772</td>\n",
              "      <td>...</td>\n",
              "      <td>NaN</td>\n",
              "      <td>NaN</td>\n",
              "      <td>0.64</td>\n",
              "      <td>NaN</td>\n",
              "      <td>NaN</td>\n",
              "      <td>989.0</td>\n",
              "      <td>5.63479</td>\n",
              "      <td>0.0</td>\n",
              "      <td>NaN</td>\n",
              "      <td>NaN</td>\n",
              "      <td>NaN</td>\n",
              "      <td>NaN</td>\n",
              "      <td>NaN</td>\n",
              "      <td>3.0</td>\n",
              "      <td>0.0</td>\n",
              "      <td>1.256394</td>\n",
              "      <td>NaN</td>\n",
              "      <td>NaN</td>\n",
              "      <td>NaN</td>\n",
              "      <td>0.851</td>\n",
              "      <td>0.0</td>\n",
              "      <td>NaN</td>\n",
              "      <td>NaN</td>\n",
              "      <td>NaN</td>\n",
              "      <td>1.362045</td>\n",
              "      <td>NaN</td>\n",
              "      <td>NaN</td>\n",
              "      <td>0.455642</td>\n",
              "      <td>NaN</td>\n",
              "      <td>NaN</td>\n",
              "      <td>NaN</td>\n",
              "      <td>NaN</td>\n",
              "      <td>6.0</td>\n",
              "      <td>NaN</td>\n",
              "      <td>1.0</td>\n",
              "      <td>NaN</td>\n",
              "      <td>NaN</td>\n",
              "      <td>NaN</td>\n",
              "      <td>NaN</td>\n",
              "      <td>NaN</td>\n",
              "    </tr>\n",
              "    <tr>\n",
              "      <th>4</th>\n",
              "      <td>3.756</td>\n",
              "      <td>0.250</td>\n",
              "      <td>0.235</td>\n",
              "      <td>2.334</td>\n",
              "      <td>0</td>\n",
              "      <td>4</td>\n",
              "      <td>0.278</td>\n",
              "      <td>3.806</td>\n",
              "      <td>2.097</td>\n",
              "      <td>0.125</td>\n",
              "      <td>3</td>\n",
              "      <td>8</td>\n",
              "      <td>3.250</td>\n",
              "      <td>1.056</td>\n",
              "      <td>1.875</td>\n",
              "      <td>3.652</td>\n",
              "      <td>4</td>\n",
              "      <td>0.119</td>\n",
              "      <td>-1.027</td>\n",
              "      <td>4</td>\n",
              "      <td>0.581</td>\n",
              "      <td>8</td>\n",
              "      <td>3.625</td>\n",
              "      <td>1.247</td>\n",
              "      <td>0.103</td>\n",
              "      <td>4.000</td>\n",
              "      <td>3.75</td>\n",
              "      <td>2020</td>\n",
              "      <td>2.580</td>\n",
              "      <td>NaN</td>\n",
              "      <td>NaN</td>\n",
              "      <td>1.842</td>\n",
              "      <td>4.000</td>\n",
              "      <td>4</td>\n",
              "      <td>4</td>\n",
              "      <td>0.219</td>\n",
              "      <td>3.560</td>\n",
              "      <td>4.00</td>\n",
              "      <td>0.357</td>\n",
              "      <td>1.053</td>\n",
              "      <td>...</td>\n",
              "      <td>NaN</td>\n",
              "      <td>NaN</td>\n",
              "      <td>1.44</td>\n",
              "      <td>NaN</td>\n",
              "      <td>NaN</td>\n",
              "      <td>NaN</td>\n",
              "      <td>NaN</td>\n",
              "      <td>0.0</td>\n",
              "      <td>4.710904</td>\n",
              "      <td>NaN</td>\n",
              "      <td>NaN</td>\n",
              "      <td>NaN</td>\n",
              "      <td>NaN</td>\n",
              "      <td>1.0</td>\n",
              "      <td>1.0</td>\n",
              "      <td>6.338175</td>\n",
              "      <td>NaN</td>\n",
              "      <td>4953.703</td>\n",
              "      <td>0.503491</td>\n",
              "      <td>0.006</td>\n",
              "      <td>0.0</td>\n",
              "      <td>NaN</td>\n",
              "      <td>NaN</td>\n",
              "      <td>NaN</td>\n",
              "      <td>1.862356</td>\n",
              "      <td>NaN</td>\n",
              "      <td>NaN</td>\n",
              "      <td>0.313570</td>\n",
              "      <td>NaN</td>\n",
              "      <td>150.029</td>\n",
              "      <td>NaN</td>\n",
              "      <td>NaN</td>\n",
              "      <td>0.0</td>\n",
              "      <td>NaN</td>\n",
              "      <td>1.0</td>\n",
              "      <td>NaN</td>\n",
              "      <td>NaN</td>\n",
              "      <td>62.0</td>\n",
              "      <td>NaN</td>\n",
              "      <td>NaN</td>\n",
              "    </tr>\n",
              "  </tbody>\n",
              "</table>\n",
              "<p>5 rows × 556 columns</p>\n",
              "</div>"
            ],
            "text/plain": [
              "   v2smgovsmalt_osp  v2smonper_osp_sd  ...  oecd_gengovdistri_t1b  wdi_idpvc\n",
              "0             1.837             0.262  ...                    NaN        NaN\n",
              "1             2.472             0.347  ...                    NaN        NaN\n",
              "2             1.684             0.429  ...                    NaN        NaN\n",
              "3             1.521             0.440  ...                    NaN        NaN\n",
              "4             3.756             0.250  ...                    NaN        NaN\n",
              "\n",
              "[5 rows x 556 columns]"
            ]
          },
          "metadata": {},
          "execution_count": 8
        }
      ]
    },
    {
      "cell_type": "markdown",
      "metadata": {
        "id": "_Y-REsdI4FNx"
      },
      "source": [
        "**Adding Our Target Variable**\n",
        "\n",
        "\n",
        "\n",
        "\n",
        "\n",
        "Here we are using the Correlates of War Project's National Material Capabilities dataset to forumlate our target variable. Because we are trying to identify factors that contribute to a country's level of influence, we need a historical target variable that is indicative of past \"power.\" CoW National Material Capabilities dataset asserts there are six indicators that explain power (military expenditure, military personnel, energy consumption, iron and steel production, urban population, and total population). We will expand upon these variables with our dataset, but the Composite Index of National Capability will give us a reasonable estimate of power/influence over the last 25 years. This index will allow us to identify which variables have explanatory power. \n",
        "\n",
        "As an aside, you will see further below that the CINC variable would do well with a log transformation. However, in boosting and random forest models, the shrunken variance causes the tree to make less balanced splits. The non-transformed variable will be affected more by the higher values. Because we're interested in the relative capacity/power of a country (and by extension, which countries are most capable), we should be concerned with the accuracy of the model for higher scoring countries. "
      ]
    },
    {
      "cell_type": "code",
      "metadata": {
        "colab": {
          "base_uri": "https://localhost:8080/",
          "height": 318
        },
        "id": "HTS0i7GrEaxA",
        "outputId": "6c4a8fad-1482-4c73-d2c9-c4ad015cf85b"
      },
      "source": [
        "#Changing descriptive variables to Object Type\n",
        "for i in ['country_name', 'year', 'COWcode']:\n",
        "  df[i] = df[i].astype('O')\n",
        "\n",
        "#drop descriptive columns\n",
        "df.drop(columns = ['codingend_hist','codingstart','gapstart2',\n",
        "                   'gapend3','gapend1','codingend','gapstart1','historical','codingend_contemp',\n",
        "                   'historical_date','gapend2','gap_index'], inplace = True)\n",
        "\n",
        "#Create dataset for testing new values of CINC scores(which doesn't provide information beyond 2016)\n",
        "pred_df = df.reset_index()[df.year>2016]\n",
        "\n",
        "# CONNECT to CINC collection\n",
        "cinc = db.collection('cinc')\n",
        "\n",
        "#Same as above, query, dict, pandas \n",
        "cinc_docs = cinc.stream()\n",
        "cinc_dict = list(map(lambda x: x.to_dict(), cinc_docs))\n",
        "target = pd.DataFrame(cinc_dict)\n",
        "\n",
        "#Drop irrelevant columns and merge with total dataframe\n",
        "target.drop(columns = ['stateabb', 'milex', 'milper', 'irst', 'pec', 'tpop', 'upop', 'version'], inplace = True)\n",
        "target.rename(columns = {'ccode':'COWcode'}, inplace = True)\n",
        "df = df.merge(target, 'inner', on = ['COWcode', 'year'])\n",
        "\n",
        "print(len(df.country_name.unique()), ' total countries represented')\n",
        "\n",
        "#set index\n",
        "pred_df.set_index(['country_name','year','COWcode'],inplace = True)\n",
        "df.set_index(['country_name','year','COWcode'], inplace = True)\n",
        "\n",
        "#Show null values and updated dataframe \n",
        "print('Total Null Values:',df.isna().sum().sum())\n",
        "df.head()\n"
      ],
      "execution_count": null,
      "outputs": [
        {
          "output_type": "stream",
          "name": "stdout",
          "text": [
            "157  total countries represented\n",
            "Total Null Values: 162784\n"
          ]
        },
        {
          "output_type": "execute_result",
          "data": {
            "text/html": [
              "<div>\n",
              "<style scoped>\n",
              "    .dataframe tbody tr th:only-of-type {\n",
              "        vertical-align: middle;\n",
              "    }\n",
              "\n",
              "    .dataframe tbody tr th {\n",
              "        vertical-align: top;\n",
              "    }\n",
              "\n",
              "    .dataframe thead th {\n",
              "        text-align: right;\n",
              "    }\n",
              "</style>\n",
              "<table border=\"1\" class=\"dataframe\">\n",
              "  <thead>\n",
              "    <tr style=\"text-align: right;\">\n",
              "      <th></th>\n",
              "      <th></th>\n",
              "      <th></th>\n",
              "      <th>v2smgovsmalt_osp</th>\n",
              "      <th>v2smonper_osp_sd</th>\n",
              "      <th>v2smgovfilprc_osp_sd</th>\n",
              "      <th>v2smcamp_osp_codehigh</th>\n",
              "      <th>v2smpardom_ord</th>\n",
              "      <th>v2smlawpr_osp_sd</th>\n",
              "      <th>v2smregcon_osp_codelow</th>\n",
              "      <th>v2smprivcon</th>\n",
              "      <th>v2smhargr_8</th>\n",
              "      <th>v2smarrest_ord_codehigh</th>\n",
              "      <th>v2smgovfilprc_nr</th>\n",
              "      <th>v2smonper_mean</th>\n",
              "      <th>v2smprivex_codehigh</th>\n",
              "      <th>v2smorgavgact_mean</th>\n",
              "      <th>v2smgovsmalt_osp_codelow</th>\n",
              "      <th>v2smforads_ord</th>\n",
              "      <th>v2smregapp</th>\n",
              "      <th>v2smcamp_codelow</th>\n",
              "      <th>v2smgovsmalt_ord_codehigh</th>\n",
              "      <th>v2smregcap_sd</th>\n",
              "      <th>v2smgovsmmon_nr</th>\n",
              "      <th>v2smgovsmmon_mean</th>\n",
              "      <th>v2smregcon_codelow</th>\n",
              "      <th>v2smorgviol_codelow</th>\n",
              "      <th>v2smprivcon_mean</th>\n",
              "      <th>v2smregcon_mean</th>\n",
              "      <th>v2smgovfilcap_osp_codehigh</th>\n",
              "      <th>gapstart3</th>\n",
              "      <th>v2smcamp_osp_codelow</th>\n",
              "      <th>v2smgovsmcenprc_osp_codehigh</th>\n",
              "      <th>v2smgovab_ord</th>\n",
              "      <th>v2smpolhate_ord_codehigh</th>\n",
              "      <th>v2smgovsmmon_osp_sd</th>\n",
              "      <th>v2smparab_osp_codelow</th>\n",
              "      <th>v2smgovsmcenprc_mean</th>\n",
              "      <th>v2smgovfilcap_osp_sd</th>\n",
              "      <th>v2smgovshut_codehigh</th>\n",
              "      <th>v2smorgviol_ord</th>\n",
              "      <th>v2smregcap_codelow</th>\n",
              "      <th>v2smprivex_osp_sd</th>\n",
              "      <th>...</th>\n",
              "      <th>wvs_confaf</th>\n",
              "      <th>bicc_hw</th>\n",
              "      <th>wdi_armexp</th>\n",
              "      <th>ffp_ext</th>\n",
              "      <th>wdi_brdeath</th>\n",
              "      <th>ajr_settmort</th>\n",
              "      <th>atop_neutrality</th>\n",
              "      <th>gtr_centaxgdp1900</th>\n",
              "      <th>gcb_pmil</th>\n",
              "      <th>wdi_idpdis</th>\n",
              "      <th>eu_imm118f</th>\n",
              "      <th>eu_imm118t</th>\n",
              "      <th>gd_ptsa</th>\n",
              "      <th>atop_consult</th>\n",
              "      <th>wdi_imig</th>\n",
              "      <th>eu_imm2534f</th>\n",
              "      <th>oecd_netmigr_t1a</th>\n",
              "      <th>icd_infcapirt1900</th>\n",
              "      <th>r_elf61</th>\n",
              "      <th>iaep_milo</th>\n",
              "      <th>ucdp_type4</th>\n",
              "      <th>nelda_vcdbe</th>\n",
              "      <th>eu_imm1824m</th>\n",
              "      <th>wdi_expmil</th>\n",
              "      <th>ffp_gg</th>\n",
              "      <th>ffp_sec</th>\n",
              "      <th>wbgi_pvs</th>\n",
              "      <th>eu_imm1824f</th>\n",
              "      <th>oecd_netmigr_t1f</th>\n",
              "      <th>ffp_hf</th>\n",
              "      <th>bti_muf</th>\n",
              "      <th>ht_colonial</th>\n",
              "      <th>wvs_psarmy</th>\n",
              "      <th>atop_nonagg</th>\n",
              "      <th>gpi_mil</th>\n",
              "      <th>eu_imm1824t</th>\n",
              "      <th>oecd_netmigr_t1e</th>\n",
              "      <th>oecd_gengovdistri_t1b</th>\n",
              "      <th>wdi_idpvc</th>\n",
              "      <th>cinc</th>\n",
              "    </tr>\n",
              "    <tr>\n",
              "      <th>country_name</th>\n",
              "      <th>year</th>\n",
              "      <th>COWcode</th>\n",
              "      <th></th>\n",
              "      <th></th>\n",
              "      <th></th>\n",
              "      <th></th>\n",
              "      <th></th>\n",
              "      <th></th>\n",
              "      <th></th>\n",
              "      <th></th>\n",
              "      <th></th>\n",
              "      <th></th>\n",
              "      <th></th>\n",
              "      <th></th>\n",
              "      <th></th>\n",
              "      <th></th>\n",
              "      <th></th>\n",
              "      <th></th>\n",
              "      <th></th>\n",
              "      <th></th>\n",
              "      <th></th>\n",
              "      <th></th>\n",
              "      <th></th>\n",
              "      <th></th>\n",
              "      <th></th>\n",
              "      <th></th>\n",
              "      <th></th>\n",
              "      <th></th>\n",
              "      <th></th>\n",
              "      <th></th>\n",
              "      <th></th>\n",
              "      <th></th>\n",
              "      <th></th>\n",
              "      <th></th>\n",
              "      <th></th>\n",
              "      <th></th>\n",
              "      <th></th>\n",
              "      <th></th>\n",
              "      <th></th>\n",
              "      <th></th>\n",
              "      <th></th>\n",
              "      <th></th>\n",
              "      <th></th>\n",
              "      <th></th>\n",
              "      <th></th>\n",
              "      <th></th>\n",
              "      <th></th>\n",
              "      <th></th>\n",
              "      <th></th>\n",
              "      <th></th>\n",
              "      <th></th>\n",
              "      <th></th>\n",
              "      <th></th>\n",
              "      <th></th>\n",
              "      <th></th>\n",
              "      <th></th>\n",
              "      <th></th>\n",
              "      <th></th>\n",
              "      <th></th>\n",
              "      <th></th>\n",
              "      <th></th>\n",
              "      <th></th>\n",
              "      <th></th>\n",
              "      <th></th>\n",
              "      <th></th>\n",
              "      <th></th>\n",
              "      <th></th>\n",
              "      <th></th>\n",
              "      <th></th>\n",
              "      <th></th>\n",
              "      <th></th>\n",
              "      <th></th>\n",
              "      <th></th>\n",
              "      <th></th>\n",
              "      <th></th>\n",
              "      <th></th>\n",
              "      <th></th>\n",
              "      <th></th>\n",
              "      <th></th>\n",
              "      <th></th>\n",
              "      <th></th>\n",
              "      <th></th>\n",
              "      <th></th>\n",
              "    </tr>\n",
              "  </thead>\n",
              "  <tbody>\n",
              "    <tr>\n",
              "      <th>Mauritania</th>\n",
              "      <th>2000</th>\n",
              "      <th>435.0</th>\n",
              "      <td>1.837</td>\n",
              "      <td>0.262</td>\n",
              "      <td>0.395</td>\n",
              "      <td>2.314</td>\n",
              "      <td>3</td>\n",
              "      <td>0.347</td>\n",
              "      <td>0.608</td>\n",
              "      <td>-2.220</td>\n",
              "      <td>0.250</td>\n",
              "      <td>1</td>\n",
              "      <td>4</td>\n",
              "      <td>3.000</td>\n",
              "      <td>-0.863</td>\n",
              "      <td>2.500</td>\n",
              "      <td>1.350</td>\n",
              "      <td>3</td>\n",
              "      <td>-0.456</td>\n",
              "      <td>-1.150</td>\n",
              "      <td>2</td>\n",
              "      <td>0.501</td>\n",
              "      <td>4</td>\n",
              "      <td>1.500</td>\n",
              "      <td>-2.320</td>\n",
              "      <td>-0.702</td>\n",
              "      <td>0.000</td>\n",
              "      <td>1.50</td>\n",
              "      <td>2.014</td>\n",
              "      <td>NaN</td>\n",
              "      <td>1.772</td>\n",
              "      <td>3.200</td>\n",
              "      <td>3</td>\n",
              "      <td>3</td>\n",
              "      <td>0.361</td>\n",
              "      <td>2.651</td>\n",
              "      <td>2.75</td>\n",
              "      <td>0.464</td>\n",
              "      <td>0.961</td>\n",
              "      <td>1</td>\n",
              "      <td>-0.870</td>\n",
              "      <td>0.178</td>\n",
              "      <td>...</td>\n",
              "      <td>NaN</td>\n",
              "      <td>1.15</td>\n",
              "      <td>NaN</td>\n",
              "      <td>NaN</td>\n",
              "      <td>NaN</td>\n",
              "      <td>5.63479</td>\n",
              "      <td>0.0</td>\n",
              "      <td>NaN</td>\n",
              "      <td>NaN</td>\n",
              "      <td>NaN</td>\n",
              "      <td>NaN</td>\n",
              "      <td>NaN</td>\n",
              "      <td>3.0</td>\n",
              "      <td>1.0</td>\n",
              "      <td>2.115717</td>\n",
              "      <td>NaN</td>\n",
              "      <td>NaN</td>\n",
              "      <td>NaN</td>\n",
              "      <td>0.341</td>\n",
              "      <td>1.0</td>\n",
              "      <td>NaN</td>\n",
              "      <td>NaN</td>\n",
              "      <td>NaN</td>\n",
              "      <td>2.928005</td>\n",
              "      <td>NaN</td>\n",
              "      <td>NaN</td>\n",
              "      <td>0.455642</td>\n",
              "      <td>NaN</td>\n",
              "      <td>NaN</td>\n",
              "      <td>NaN</td>\n",
              "      <td>NaN</td>\n",
              "      <td>6.0</td>\n",
              "      <td>NaN</td>\n",
              "      <td>1.0</td>\n",
              "      <td>NaN</td>\n",
              "      <td>NaN</td>\n",
              "      <td>NaN</td>\n",
              "      <td>NaN</td>\n",
              "      <td>NaN</td>\n",
              "      <td>0.000256</td>\n",
              "    </tr>\n",
              "    <tr>\n",
              "      <th>Nepal</th>\n",
              "      <th>2000</th>\n",
              "      <th>790.0</th>\n",
              "      <td>2.472</td>\n",
              "      <td>0.347</td>\n",
              "      <td>0.246</td>\n",
              "      <td>1.446</td>\n",
              "      <td>2</td>\n",
              "      <td>0.399</td>\n",
              "      <td>1.195</td>\n",
              "      <td>-1.532</td>\n",
              "      <td>0.750</td>\n",
              "      <td>1</td>\n",
              "      <td>8</td>\n",
              "      <td>1.571</td>\n",
              "      <td>-0.371</td>\n",
              "      <td>1.250</td>\n",
              "      <td>2.242</td>\n",
              "      <td>3</td>\n",
              "      <td>-0.710</td>\n",
              "      <td>-2.746</td>\n",
              "      <td>3</td>\n",
              "      <td>0.623</td>\n",
              "      <td>7</td>\n",
              "      <td>2.000</td>\n",
              "      <td>-1.685</td>\n",
              "      <td>-1.438</td>\n",
              "      <td>1.333</td>\n",
              "      <td>1.75</td>\n",
              "      <td>2.030</td>\n",
              "      <td>NaN</td>\n",
              "      <td>0.657</td>\n",
              "      <td>2.406</td>\n",
              "      <td>1</td>\n",
              "      <td>1</td>\n",
              "      <td>0.238</td>\n",
              "      <td>2.010</td>\n",
              "      <td>2.00</td>\n",
              "      <td>0.336</td>\n",
              "      <td>-1.087</td>\n",
              "      <td>1</td>\n",
              "      <td>-1.498</td>\n",
              "      <td>0.181</td>\n",
              "      <td>...</td>\n",
              "      <td>NaN</td>\n",
              "      <td>0.04</td>\n",
              "      <td>NaN</td>\n",
              "      <td>NaN</td>\n",
              "      <td>268.0</td>\n",
              "      <td>NaN</td>\n",
              "      <td>0.0</td>\n",
              "      <td>NaN</td>\n",
              "      <td>NaN</td>\n",
              "      <td>NaN</td>\n",
              "      <td>NaN</td>\n",
              "      <td>NaN</td>\n",
              "      <td>4.0</td>\n",
              "      <td>0.0</td>\n",
              "      <td>3.023992</td>\n",
              "      <td>NaN</td>\n",
              "      <td>NaN</td>\n",
              "      <td>0.000000</td>\n",
              "      <td>0.699</td>\n",
              "      <td>0.0</td>\n",
              "      <td>NaN</td>\n",
              "      <td>NaN</td>\n",
              "      <td>NaN</td>\n",
              "      <td>0.962150</td>\n",
              "      <td>NaN</td>\n",
              "      <td>NaN</td>\n",
              "      <td>0.455642</td>\n",
              "      <td>NaN</td>\n",
              "      <td>NaN</td>\n",
              "      <td>NaN</td>\n",
              "      <td>NaN</td>\n",
              "      <td>0.0</td>\n",
              "      <td>NaN</td>\n",
              "      <td>1.0</td>\n",
              "      <td>NaN</td>\n",
              "      <td>NaN</td>\n",
              "      <td>NaN</td>\n",
              "      <td>NaN</td>\n",
              "      <td>NaN</td>\n",
              "      <td>0.001276</td>\n",
              "    </tr>\n",
              "    <tr>\n",
              "      <th>Bhutan</th>\n",
              "      <th>2000</th>\n",
              "      <th>760.0</th>\n",
              "      <td>1.684</td>\n",
              "      <td>0.429</td>\n",
              "      <td>0.341</td>\n",
              "      <td>0.555</td>\n",
              "      <td>3</td>\n",
              "      <td>0.407</td>\n",
              "      <td>1.360</td>\n",
              "      <td>-0.548</td>\n",
              "      <td>0.000</td>\n",
              "      <td>1</td>\n",
              "      <td>4</td>\n",
              "      <td>1.333</td>\n",
              "      <td>-0.581</td>\n",
              "      <td>0.500</td>\n",
              "      <td>1.411</td>\n",
              "      <td>2</td>\n",
              "      <td>-1.532</td>\n",
              "      <td>-4.021</td>\n",
              "      <td>2</td>\n",
              "      <td>0.771</td>\n",
              "      <td>4</td>\n",
              "      <td>2.500</td>\n",
              "      <td>-1.588</td>\n",
              "      <td>0.169</td>\n",
              "      <td>4.000</td>\n",
              "      <td>2.75</td>\n",
              "      <td>0.662</td>\n",
              "      <td>NaN</td>\n",
              "      <td>0.035</td>\n",
              "      <td>2.812</td>\n",
              "      <td>3</td>\n",
              "      <td>3</td>\n",
              "      <td>0.293</td>\n",
              "      <td>1.053</td>\n",
              "      <td>2.75</td>\n",
              "      <td>0.305</td>\n",
              "      <td>-0.569</td>\n",
              "      <td>2</td>\n",
              "      <td>-3.209</td>\n",
              "      <td>0.182</td>\n",
              "      <td>...</td>\n",
              "      <td>NaN</td>\n",
              "      <td>NaN</td>\n",
              "      <td>NaN</td>\n",
              "      <td>NaN</td>\n",
              "      <td>NaN</td>\n",
              "      <td>NaN</td>\n",
              "      <td>NaN</td>\n",
              "      <td>NaN</td>\n",
              "      <td>NaN</td>\n",
              "      <td>NaN</td>\n",
              "      <td>NaN</td>\n",
              "      <td>NaN</td>\n",
              "      <td>2.0</td>\n",
              "      <td>NaN</td>\n",
              "      <td>5.696161</td>\n",
              "      <td>NaN</td>\n",
              "      <td>NaN</td>\n",
              "      <td>NaN</td>\n",
              "      <td>0.680</td>\n",
              "      <td>0.0</td>\n",
              "      <td>NaN</td>\n",
              "      <td>NaN</td>\n",
              "      <td>NaN</td>\n",
              "      <td>NaN</td>\n",
              "      <td>NaN</td>\n",
              "      <td>NaN</td>\n",
              "      <td>0.455642</td>\n",
              "      <td>NaN</td>\n",
              "      <td>NaN</td>\n",
              "      <td>NaN</td>\n",
              "      <td>NaN</td>\n",
              "      <td>5.0</td>\n",
              "      <td>NaN</td>\n",
              "      <td>NaN</td>\n",
              "      <td>NaN</td>\n",
              "      <td>NaN</td>\n",
              "      <td>NaN</td>\n",
              "      <td>NaN</td>\n",
              "      <td>NaN</td>\n",
              "      <td>0.000125</td>\n",
              "    </tr>\n",
              "    <tr>\n",
              "      <th>Chad</th>\n",
              "      <th>2000</th>\n",
              "      <th>483.0</th>\n",
              "      <td>1.521</td>\n",
              "      <td>0.440</td>\n",
              "      <td>0.326</td>\n",
              "      <td>2.334</td>\n",
              "      <td>2</td>\n",
              "      <td>0.461</td>\n",
              "      <td>2.765</td>\n",
              "      <td>0.804</td>\n",
              "      <td>0.400</td>\n",
              "      <td>1</td>\n",
              "      <td>5</td>\n",
              "      <td>2.667</td>\n",
              "      <td>-0.235</td>\n",
              "      <td>1.200</td>\n",
              "      <td>1.112</td>\n",
              "      <td>3</td>\n",
              "      <td>0.074</td>\n",
              "      <td>-1.389</td>\n",
              "      <td>2</td>\n",
              "      <td>0.526</td>\n",
              "      <td>5</td>\n",
              "      <td>2.200</td>\n",
              "      <td>-0.014</td>\n",
              "      <td>-0.475</td>\n",
              "      <td>3.500</td>\n",
              "      <td>3.20</td>\n",
              "      <td>1.909</td>\n",
              "      <td>NaN</td>\n",
              "      <td>1.576</td>\n",
              "      <td>3.069</td>\n",
              "      <td>2</td>\n",
              "      <td>2</td>\n",
              "      <td>0.302</td>\n",
              "      <td>2.037</td>\n",
              "      <td>2.60</td>\n",
              "      <td>0.272</td>\n",
              "      <td>-0.772</td>\n",
              "      <td>1</td>\n",
              "      <td>-1.058</td>\n",
              "      <td>0.203</td>\n",
              "      <td>...</td>\n",
              "      <td>NaN</td>\n",
              "      <td>0.64</td>\n",
              "      <td>NaN</td>\n",
              "      <td>NaN</td>\n",
              "      <td>989.0</td>\n",
              "      <td>5.63479</td>\n",
              "      <td>0.0</td>\n",
              "      <td>NaN</td>\n",
              "      <td>NaN</td>\n",
              "      <td>NaN</td>\n",
              "      <td>NaN</td>\n",
              "      <td>NaN</td>\n",
              "      <td>3.0</td>\n",
              "      <td>0.0</td>\n",
              "      <td>1.256394</td>\n",
              "      <td>NaN</td>\n",
              "      <td>NaN</td>\n",
              "      <td>NaN</td>\n",
              "      <td>0.851</td>\n",
              "      <td>0.0</td>\n",
              "      <td>NaN</td>\n",
              "      <td>NaN</td>\n",
              "      <td>NaN</td>\n",
              "      <td>1.362045</td>\n",
              "      <td>NaN</td>\n",
              "      <td>NaN</td>\n",
              "      <td>0.455642</td>\n",
              "      <td>NaN</td>\n",
              "      <td>NaN</td>\n",
              "      <td>NaN</td>\n",
              "      <td>NaN</td>\n",
              "      <td>6.0</td>\n",
              "      <td>NaN</td>\n",
              "      <td>1.0</td>\n",
              "      <td>NaN</td>\n",
              "      <td>NaN</td>\n",
              "      <td>NaN</td>\n",
              "      <td>NaN</td>\n",
              "      <td>NaN</td>\n",
              "      <td>0.000578</td>\n",
              "    </tr>\n",
              "    <tr>\n",
              "      <th>Portugal</th>\n",
              "      <th>2000</th>\n",
              "      <th>235.0</th>\n",
              "      <td>3.756</td>\n",
              "      <td>0.250</td>\n",
              "      <td>0.235</td>\n",
              "      <td>2.334</td>\n",
              "      <td>4</td>\n",
              "      <td>0.278</td>\n",
              "      <td>3.806</td>\n",
              "      <td>2.097</td>\n",
              "      <td>0.125</td>\n",
              "      <td>3</td>\n",
              "      <td>8</td>\n",
              "      <td>3.250</td>\n",
              "      <td>1.056</td>\n",
              "      <td>1.875</td>\n",
              "      <td>3.652</td>\n",
              "      <td>4</td>\n",
              "      <td>0.119</td>\n",
              "      <td>-1.027</td>\n",
              "      <td>4</td>\n",
              "      <td>0.581</td>\n",
              "      <td>8</td>\n",
              "      <td>3.625</td>\n",
              "      <td>1.247</td>\n",
              "      <td>0.103</td>\n",
              "      <td>4.000</td>\n",
              "      <td>3.75</td>\n",
              "      <td>2.580</td>\n",
              "      <td>NaN</td>\n",
              "      <td>1.842</td>\n",
              "      <td>4.000</td>\n",
              "      <td>4</td>\n",
              "      <td>4</td>\n",
              "      <td>0.219</td>\n",
              "      <td>3.560</td>\n",
              "      <td>4.00</td>\n",
              "      <td>0.357</td>\n",
              "      <td>1.053</td>\n",
              "      <td>2</td>\n",
              "      <td>1.246</td>\n",
              "      <td>0.119</td>\n",
              "      <td>...</td>\n",
              "      <td>NaN</td>\n",
              "      <td>1.44</td>\n",
              "      <td>NaN</td>\n",
              "      <td>NaN</td>\n",
              "      <td>NaN</td>\n",
              "      <td>NaN</td>\n",
              "      <td>0.0</td>\n",
              "      <td>4.710904</td>\n",
              "      <td>NaN</td>\n",
              "      <td>NaN</td>\n",
              "      <td>NaN</td>\n",
              "      <td>NaN</td>\n",
              "      <td>1.0</td>\n",
              "      <td>1.0</td>\n",
              "      <td>6.338175</td>\n",
              "      <td>NaN</td>\n",
              "      <td>4953.703</td>\n",
              "      <td>0.503491</td>\n",
              "      <td>0.006</td>\n",
              "      <td>0.0</td>\n",
              "      <td>NaN</td>\n",
              "      <td>NaN</td>\n",
              "      <td>NaN</td>\n",
              "      <td>1.862356</td>\n",
              "      <td>NaN</td>\n",
              "      <td>NaN</td>\n",
              "      <td>0.313570</td>\n",
              "      <td>NaN</td>\n",
              "      <td>150.029</td>\n",
              "      <td>NaN</td>\n",
              "      <td>NaN</td>\n",
              "      <td>0.0</td>\n",
              "      <td>NaN</td>\n",
              "      <td>1.0</td>\n",
              "      <td>NaN</td>\n",
              "      <td>NaN</td>\n",
              "      <td>62.0</td>\n",
              "      <td>NaN</td>\n",
              "      <td>NaN</td>\n",
              "      <td>0.001782</td>\n",
              "    </tr>\n",
              "  </tbody>\n",
              "</table>\n",
              "<p>5 rows × 542 columns</p>\n",
              "</div>"
            ],
            "text/plain": [
              "                           v2smgovsmalt_osp  ...      cinc\n",
              "country_name year COWcode                    ...          \n",
              "Mauritania   2000 435.0               1.837  ...  0.000256\n",
              "Nepal        2000 790.0               2.472  ...  0.001276\n",
              "Bhutan       2000 760.0               1.684  ...  0.000125\n",
              "Chad         2000 483.0               1.521  ...  0.000578\n",
              "Portugal     2000 235.0               3.756  ...  0.001782\n",
              "\n",
              "[5 rows x 542 columns]"
            ]
          },
          "metadata": {},
          "execution_count": 9
        }
      ]
    },
    {
      "cell_type": "markdown",
      "metadata": {
        "id": "rIfkWHNzfu6s"
      },
      "source": [
        "**NOTE:** The target variable dataset's period ends in 2016. Thus, I am leaving performing an inner merge to bring the original dataframe to {2000-2016} for exploratative purposes. For the future we can set up a Bayesian imputation perhaps for imputing current power values. "
      ]
    },
    {
      "cell_type": "code",
      "metadata": {
        "id": "LBZEsTXWE1GK"
      },
      "source": [
        "#Creating qog only dataset for modelling variants\n",
        "qog.rename(columns = {'ccodecow':'COWcode', 'cname':'country_name'}, inplace = True)\n",
        "qog_df = qog.merge(target, on = ['COWcode', 'year'], how = 'inner')"
      ],
      "execution_count": null,
      "outputs": []
    },
    {
      "cell_type": "markdown",
      "metadata": {
        "id": "_Cq8LTWQq-DQ"
      },
      "source": [
        "# XGBoost\n"
      ]
    },
    {
      "cell_type": "markdown",
      "metadata": {
        "id": "n62WxqQkbFFV"
      },
      "source": [
        "**Background**\n",
        "\n",
        "XGBoost is an award winning algorithm/library that is built upon optimized distributed gradient boosting. That may be a lot of jargon, so let's break it down into the core components: \n",
        "\n",
        "\n",
        "*   **Gradient Descent**\n",
        "        A method to minimize a function with several to many variables, it works by minimizing the cost function of a model, or the measure of how close the predicted values are to the actual. It is an iterative approach that updates the model's weights/parameters in order to minimize the cost and returns the best weights. \n",
        "*   **Gradient Boosting**\n",
        "        This is a machine learning technique that consolodates weak prediction models into a single, strong prediction model (these are usually decision trees). Gradient Boosted Models use the descent optimization to return optimal parameters, but the result is the addition of multiple functions. \n",
        "\n",
        "**Characteristics of XGBoost** \n",
        "\n",
        "How does this serve our purposes of identifying variables that contribute to a country's power? Our dataset as is contains many missing variables and features high multicollinearity between variables, how do we deal with that? Here lies the beauty of XGBoost: In tree algorithms, the branches learn to deal with missing values through training. Linear boosters treat missing values as zeros. In addition, decision trees are naturally resistant to multicollinear variables because their variable choice is based on the incremental gain that it presents to the model. If two variables are highly correlated, the tree will choose the variable with the largest model gain (and thus minimizing the cost function). This is why we are not cleaning the data further at this stage. \n",
        "\n",
        "**Initial Steps** \n",
        "\n",
        "XGBoost utilizes a data matrix, which is optimized for memory efficiency and training speed. We're going to split this matrix into a training dataset, and a test and validation set so that we can measure the efficiency of our collection of decision trees. \n",
        "\n"
      ]
    },
    {
      "cell_type": "code",
      "metadata": {
        "colab": {
          "base_uri": "https://localhost:8080/"
        },
        "id": "FTXgRpVdZhrK",
        "outputId": "4974fc34-3a32-4583-de91-8bc0f1029cd0"
      },
      "source": [
        "from sklearn.model_selection import train_test_split\n",
        "import xgboost as xgb\n",
        "from sklearn.metrics import mean_squared_error, explained_variance_score\n",
        "import numpy as np\n",
        "\n",
        "\n",
        "X,y = df.iloc[:,:-1], df.iloc[:,-1]\n",
        "data_dmatrix = xgb.DMatrix(data = X, label = y)\n",
        "\n",
        "X_train, X_test, y_train, y_test = train_test_split(X,y, test_size = 0.2, random_state = 123)\n",
        "X_train, X_val, y_train, y_val = train_test_split(X_train, y_train, test_size = 0.2, random_state = 123)\n",
        "\n",
        "print(len(X_train), 'train examples')\n",
        "print(len(X_val), 'validation examples')\n",
        "print(len(X_test), 'test examples')"
      ],
      "execution_count": null,
      "outputs": [
        {
          "output_type": "stream",
          "name": "stdout",
          "text": [
            "1696 train examples\n",
            "424 validation examples\n",
            "530 test examples\n"
          ]
        }
      ]
    },
    {
      "cell_type": "markdown",
      "metadata": {
        "id": "T44hiUAilhQf"
      },
      "source": [
        "We have 1696 instances for training with 424 validation examples and 530 test examples. Next we are going to train our boosted regression model (as our target variable is currently continuous), optimized for minimizing squared error. Our initial parameters have a max depth of 6 branches, and contains 50 estimators."
      ]
    },
    {
      "cell_type": "code",
      "metadata": {
        "colab": {
          "base_uri": "https://localhost:8080/"
        },
        "id": "8l-dvkUeF0K8",
        "outputId": "7e245832-aecf-4927-8506-9b97060020ab"
      },
      "source": [
        "clf = xgb.XGBRegressor(objective = 'reg:squarederror', max_depth = 6, n_estimators=50)\n",
        "clf = clf.fit(X_train, y_train, verbose=11)\n",
        "y_pred = clf.predict(X_test)\n",
        "print(\"RMSE: {:.4f}\".format(np.sqrt(mean_squared_error(y_test, y_pred))))"
      ],
      "execution_count": null,
      "outputs": [
        {
          "output_type": "stream",
          "name": "stdout",
          "text": [
            "RMSE: 0.0030\n"
          ]
        }
      ]
    },
    {
      "cell_type": "markdown",
      "metadata": {
        "id": "IO7mVZoWmPP0"
      },
      "source": [
        "The root mean squared error of our model is .003, how do we determine if this a good model? First let's observe the descriptive statistics of the target variable. As you can see below, the majority of the target variable is centered on 0, and heavily right skewed. This makes perfect sense, as there are few countries that share a significant portion of influence and the majority being dependent on the few. The standard deviation of the target variable is ~ .0176. The RMSE tells us the standard deviation of the explained variance, or more simply, the average error is ± .003 from the actual value. This seems to indicate that the model is predictive for more powerful countries, but not as much for the less powerful. "
      ]
    },
    {
      "cell_type": "code",
      "metadata": {
        "colab": {
          "base_uri": "https://localhost:8080/",
          "height": 632
        },
        "id": "kTy-drafmiD2",
        "outputId": "508e6455-3d5d-4c08-d814-65d69c86c4b5"
      },
      "source": [
        "print(df.cinc.describe())\n",
        "plt.clf()\n",
        "sns.displot(df.cinc, height = 6)\n",
        "plt.ylim(0,100)\n"
      ],
      "execution_count": null,
      "outputs": [
        {
          "output_type": "stream",
          "name": "stdout",
          "text": [
            "count    2650.000000\n",
            "mean        0.004931\n",
            "std         0.017617\n",
            "min         0.000003\n",
            "25%         0.000349\n",
            "50%         0.000987\n",
            "75%         0.003137\n",
            "max         0.231185\n",
            "Name: cinc, dtype: float64\n"
          ]
        },
        {
          "output_type": "execute_result",
          "data": {
            "text/plain": [
              "(0.0, 100.0)"
            ]
          },
          "metadata": {},
          "execution_count": 15
        },
        {
          "output_type": "display_data",
          "data": {
            "text/plain": [
              "<Figure size 432x288 with 0 Axes>"
            ]
          },
          "metadata": {}
        },
        {
          "output_type": "display_data",
          "data": {
            "image/png": "[encoded data removed]",
            "text/plain": [
              "<Figure size 432x432 with 1 Axes>"
            ]
          },
          "metadata": {
            "needs_background": "light"
          }
        }
      ]
    },
    {
      "cell_type": "code",
      "metadata": {
        "colab": {
          "base_uri": "https://localhost:8080/"
        },
        "id": "zIaCSen1yfYn",
        "outputId": "feff840c-d9ba-4267-89ae-691dc22e0071"
      },
      "source": [
        "print(\"The model explains {:.3f}% of the variance.\".format(100*explained_variance_score(y_test, y_pred)))\n",
        "print(\"Number of trees in model: {:}\".format(len(clf.get_booster().get_dump())))"
      ],
      "execution_count": null,
      "outputs": [
        {
          "output_type": "stream",
          "name": "stdout",
          "text": [
            "The model explains 99.604% of the variance.\n",
            "Number of trees in model: 50\n"
          ]
        }
      ]
    },
    {
      "cell_type": "markdown",
      "metadata": {
        "id": "Ti0PVHeGydZP"
      },
      "source": [
        "Our model seems to be highly predictive, explaining 99.765% of the variance. As a reminder, XGBoost and Gradient Boosting uses an amalgamation of decision trees to form their model. Ours happens to have a total of 100 trees, where the predicted CINC value is represented by a summation of tree output. An example of one of these trees is below for you to visualize what the structure of a tree *could* look like. "
      ]
    },
    {
      "cell_type": "code",
      "metadata": {
        "colab": {
          "base_uri": "https://localhost:8080/",
          "height": 320
        },
        "id": "0w0FcpTIsnqP",
        "outputId": "9150cf78-05b7-4f42-d634-6e4a5ccb7296"
      },
      "source": [
        "ax = xgb.plot_tree(clf, num_trees=25) \n",
        "fig = ax.figure\n",
        "fig.set_size_inches(20, 10)\n"
      ],
      "execution_count": null,
      "outputs": [
        {
          "output_type": "display_data",
          "data": {
            "image/png": "[encoded data removed]",
            "text/plain": [
              "<Figure size 1440x720 with 1 Axes>"
            ]
          },
          "metadata": {
            "needs_background": "light"
          }
        }
      ]
    },
    {
      "cell_type": "markdown",
      "metadata": {
        "id": "NJEn2JeXDc1i"
      },
      "source": [
        "This is a great visualization, but it doesn't tell us much about which factors are most significant in predicting CINC scores. For that, we will turn to the SHAP library, which is a game-theoretic approach meant to analyze the output of a machine learning model. It uses Shapley values that sum up to the difference between the outcomes when all factors are present and when no factors are present. "
      ]
    },
    {
      "cell_type": "code",
      "metadata": {
        "id": "7Df6XeJUPfmS"
      },
      "source": [
        "import shap\n",
        "explainer = shap.TreeExplainer(clf)\n",
        "shap_values = explainer.shap_values(X_test)"
      ],
      "execution_count": null,
      "outputs": []
    },
    {
      "cell_type": "code",
      "metadata": {
        "id": "oq-kUqJ4VBGQ",
        "colab": {
          "base_uri": "https://localhost:8080/"
        },
        "outputId": "ddc3c3b1-be94-4af2-805f-e89be987a622"
      },
      "source": [
        "shap_values"
      ],
      "execution_count": null,
      "outputs": [
        {
          "output_type": "execute_result",
          "data": {
            "text/plain": [
              "array([[-2.67946660e-07, -7.39229336e-06,  0.00000000e+00, ...,\n",
              "         0.00000000e+00,  0.00000000e+00, -4.98089139e-06],\n",
              "       [ 5.55085262e-06,  1.49206535e-05,  0.00000000e+00, ...,\n",
              "         0.00000000e+00,  0.00000000e+00, -1.77710399e-06],\n",
              "       [-4.98121040e-07, -8.05428408e-06,  0.00000000e+00, ...,\n",
              "         0.00000000e+00,  0.00000000e+00, -1.45608897e-06],\n",
              "       ...,\n",
              "       [-2.67946660e-07, -5.91234448e-06,  0.00000000e+00, ...,\n",
              "         0.00000000e+00,  0.00000000e+00, -1.28355578e-06],\n",
              "       [-2.67946660e-07,  1.10916471e-05,  0.00000000e+00, ...,\n",
              "         0.00000000e+00,  0.00000000e+00,  4.82148789e-06],\n",
              "       [-4.98121040e-07,  3.81675891e-05,  0.00000000e+00, ...,\n",
              "         0.00000000e+00,  0.00000000e+00, -4.52570021e-07]], dtype=float32)"
            ]
          },
          "metadata": {},
          "execution_count": 18
        }
      ]
    },
    {
      "cell_type": "code",
      "metadata": {
        "colab": {
          "base_uri": "https://localhost:8080/",
          "height": 581
        },
        "id": "I-ABia3sX_ro",
        "outputId": "09da3e8e-623d-48fe-d0bc-e327bfd04ed1"
      },
      "source": [
        "shap.summary_plot(shap_values, X_test, plot_type=\"bar\")"
      ],
      "execution_count": null,
      "outputs": [
        {
          "output_type": "display_data",
          "data": {
            "image/png": "[encoded data removed]",
            "text/plain": [
              "<Figure size 576x684 with 1 Axes>"
            ]
          },
          "metadata": {
            "needs_background": "light"
          }
        }
      ]
    },
    {
      "cell_type": "markdown",
      "metadata": {
        "id": "4Vh_RR_xEW7g"
      },
      "source": [
        "From the SHAP analysis, the most significant factors relate to the total armed forces personnel, government internet filtering in practice, armed forces personnel as a percentage of total labor force, arms exports and imports, government dissemination of false information domestically, among others. Please consult the respective codebooks for more information on relevant factors."
      ]
    },
    {
      "cell_type": "markdown",
      "metadata": {
        "id": "8_FolJ2ABju7"
      },
      "source": [
        "# Playing with XGBoost Params\n"
      ]
    },
    {
      "cell_type": "markdown",
      "metadata": {
        "id": "cXz9b5dHFcrW"
      },
      "source": [
        "Something that we must consider is whether we have the most optimal model parameters. In order to test multiple parameters at once, we'll use sklearn's package GridSearchCV. This is a cross-validation approach that searches over specified parameters of a an estimator. "
      ]
    },
    {
      "cell_type": "code",
      "metadata": {
        "colab": {
          "base_uri": "https://localhost:8080/"
        },
        "id": "0edXq6fbB_2y",
        "outputId": "4e778fec-2096-4b38-b28a-073b0d633e6b"
      },
      "source": [
        "from sklearn.model_selection import GridSearchCV\n",
        "\n",
        "parameters = {'nthread':[4], #when use hyperthread, xgboost may become slower\n",
        "              'objective':['reg:squarederror'],\n",
        "              'learning_rate': [.07, .1,.12], #so called `eta` value\n",
        "              'max_depth': [5,6,7],\n",
        "              'min_child_weight': [1],\n",
        "              'silent': [0,1],\n",
        "              'subsample': [0.7,1],\n",
        "              'colsample_bytree': [0.7,1],\n",
        "              'n_estimators': [50,100,500]}\n",
        "\n",
        "xgb_grid = GridSearchCV(clf,\n",
        "                        parameters,\n",
        "                        cv = 5,\n",
        "                        n_jobs = 5,\n",
        "                        verbose=True)\n",
        "\n",
        "xgb_grid.fit(X_train,\n",
        "         y_train)\n",
        "   "
      ],
      "execution_count": null,
      "outputs": [
        {
          "output_type": "stream",
          "name": "stdout",
          "text": [
            "Fitting 5 folds for each of 216 candidates, totalling 1080 fits\n"
          ]
        },
        {
          "output_type": "stream",
          "name": "stderr",
          "text": [
            "[Parallel(n_jobs=5)]: Using backend LokyBackend with 5 concurrent workers.\n",
            "[Parallel(n_jobs=5)]: Done  40 tasks      | elapsed:   59.2s\n",
            "[Parallel(n_jobs=5)]: Done 190 tasks      | elapsed:  8.5min\n",
            "[Parallel(n_jobs=5)]: Done 440 tasks      | elapsed: 19.0min\n",
            "[Parallel(n_jobs=5)]: Done 790 tasks      | elapsed: 38.4min\n",
            "[Parallel(n_jobs=5)]: Done 1080 out of 1080 | elapsed: 55.1min finished\n"
          ]
        },
        {
          "output_type": "execute_result",
          "data": {
            "text/plain": [
              "GridSearchCV(cv=5, error_score=nan,\n",
              "             estimator=XGBRegressor(base_score=0.5, booster='gbtree',\n",
              "                                    colsample_bylevel=1, colsample_bynode=1,\n",
              "                                    colsample_bytree=1, gamma=0,\n",
              "                                    importance_type='gain', learning_rate=0.1,\n",
              "                                    max_delta_step=0, max_depth=6,\n",
              "                                    min_child_weight=1, missing=None,\n",
              "                                    n_estimators=50, n_jobs=1, nthread=None,\n",
              "                                    objective='reg:squarederror',\n",
              "                                    random_state=0, reg_alpha=0...\n",
              "                                    subsample=1, verbosity=1),\n",
              "             iid='deprecated', n_jobs=5,\n",
              "             param_grid={'colsample_bytree': [0.7, 1],\n",
              "                         'learning_rate': [0.07, 0.1, 0.12],\n",
              "                         'max_depth': [5, 6, 7], 'min_child_weight': [1],\n",
              "                         'n_estimators': [50, 100, 500], 'nthread': [4],\n",
              "                         'objective': ['reg:squarederror'], 'silent': [0, 1],\n",
              "                         'subsample': [0.7, 1]},\n",
              "             pre_dispatch='2*n_jobs', refit=True, return_train_score=False,\n",
              "             scoring=None, verbose=True)"
            ]
          },
          "metadata": {},
          "execution_count": 19
        }
      ]
    },
    {
      "cell_type": "code",
      "metadata": {
        "colab": {
          "base_uri": "https://localhost:8080/"
        },
        "id": "1vRwA6ykC6SX",
        "outputId": "9d64664e-c473-4b8e-8ce7-786790c5bdc7"
      },
      "source": [
        "print(xgb_grid.best_score_)\n",
        "print(xgb_grid.best_params_)"
      ],
      "execution_count": null,
      "outputs": [
        {
          "output_type": "stream",
          "name": "stdout",
          "text": [
            "0.9947100760004132\n",
            "{'colsample_bytree': 0.7, 'learning_rate': 0.1, 'max_depth': 6, 'min_child_weight': 1, 'n_estimators': 500, 'nthread': 4, 'objective': 'reg:squarederror', 'silent': 0, 'subsample': 1}\n"
          ]
        }
      ]
    },
    {
      "cell_type": "code",
      "metadata": {
        "colab": {
          "base_uri": "https://localhost:8080/"
        },
        "id": "_Q8oBQB8AEVe",
        "outputId": "0cd26fd8-1f01-43f9-aa42-bdbdf5161ea1"
      },
      "source": [
        "#Implement new parameters\n",
        "model = xgb.XGBRegressor(parameters = xgb_grid.best_params_)\n",
        "model = model.fit(X_train, y_train)\n",
        "y_pred = model.predict(X_test)\n",
        "print(\"RMSE: {:.4f}\".format(np.sqrt(mean_squared_error(y_test, y_pred))))\n",
        "print(\"The model explains {:.3f}% of the variance.\".format(100*explained_variance_score(y_test, y_pred)))\n",
        "print(\"Number of trees in model: {:}\".format(len(model.get_booster().get_dump())))"
      ],
      "execution_count": null,
      "outputs": [
        {
          "output_type": "stream",
          "name": "stdout",
          "text": [
            "[17:41:13] WARNING: /workspace/src/objective/regression_obj.cu:152: reg:linear is now deprecated in favor of reg:squarederror.\n",
            "RMSE: 0.0015\n",
            "The model explains 99.470% of the variance.\n",
            "Number of trees in model: 100\n"
          ]
        }
      ]
    },
    {
      "cell_type": "markdown",
      "metadata": {
        "id": "F14wzLQ6GHsF"
      },
      "source": [
        "The model slightly beats out the prior model, with a RMSE of .0015 and explained variance of 99.5%. Let's predict a new CINC score for all countries on years past 2016. "
      ]
    },
    {
      "cell_type": "code",
      "metadata": {
        "id": "1V35KdauGVag"
      },
      "source": [
        "#predict the new values for 2017-2020\n",
        "pred_df = pred_df.reset_index()\n",
        "pred_df['labels'] = model.predict(pred_df.iloc[:,4:])\n",
        "predictions = pred_df[['country_name', 'year','COWcode','labels']]\n",
        "\n",
        "#create dataframe with country average CINC values over 18 year timeframe\n",
        "avgs = df.groupby('country_name', as_index=True)['cinc'].mean()\n",
        "predictions = predictions.merge(avgs, on = 'country_name')\n",
        "\n",
        "#calculate the difference between predicted values and the average by country\n",
        "predictions['Delta'] = abs(predictions.labels-predictions.cinc)\n",
        "predictions.rename(columns = {'cinc':'Avg. CINC'}, inplace = True)"
      ],
      "execution_count": null,
      "outputs": []
    },
    {
      "cell_type": "code",
      "metadata": {
        "colab": {
          "base_uri": "https://localhost:8080/"
        },
        "id": "blV4nLooMR5Z",
        "outputId": "55d66b5b-35d6-4fca-f1eb-cfaf4266063c"
      },
      "source": [
        "print('Average discrepancy between average values and predicted {:.3f}'.format(predictions['Delta'].mean()))\n",
        "print(predictions.tail(10))"
      ],
      "execution_count": null,
      "outputs": [
        {
          "output_type": "stream",
          "name": "stdout",
          "text": [
            "Average discrepancy between average values and predicted 0.002\n",
            "    country_name  year  COWcode    labels  Avg. CINC     Delta\n",
            "618   Tajikistan  2019    702.0  0.000624   0.000371  0.000253\n",
            "619   Tajikistan  2020    702.0  0.000622   0.000371  0.000251\n",
            "620    Indonesia  2017    850.0  0.017589   0.014750  0.002839\n",
            "621    Indonesia  2018    850.0  0.015758   0.014750  0.001008\n",
            "622    Indonesia  2019    850.0  0.001479   0.014750  0.013272\n",
            "623    Indonesia  2020    850.0  0.000637   0.014750  0.014113\n",
            "624      Ecuador  2017    130.0  0.002122   0.001525  0.000597\n",
            "625      Ecuador  2018    130.0  0.002257   0.001525  0.000732\n",
            "626      Ecuador  2019    130.0  0.001476   0.001525  0.000049\n",
            "627      Ecuador  2020    130.0  0.000653   0.001525  0.000872\n"
          ]
        }
      ]
    },
    {
      "cell_type": "markdown",
      "metadata": {
        "id": "hQWYL95IMuxI"
      },
      "source": [
        "You can see that the mean absolute differences between the average CINC scores and the new predicted values is only about .002, suggesting that the trends are stable and nearly match a country's average."
      ]
    },
    {
      "cell_type": "markdown",
      "metadata": {
        "id": "xEww_qP-fS1u"
      },
      "source": [
        "#Classification Problem\n",
        "Here I want to test if we get cleaner results by converting our data into a classification problem. I am going to adjust the target variable percentiles: 1%,25%,50%,75%,99% and assign them numeric rankings. "
      ]
    },
    {
      "cell_type": "code",
      "metadata": {
        "id": "X99rH_EzfF0w"
      },
      "source": [
        "from sklearn.metrics import accuracy_score\n",
        "bin_df = df.copy()\n",
        "\n",
        "pct = np.percentile(np.array(df.cinc), np.array([1,25,50,75,99]))\n",
        "bin_df.cinc = np.where(bin_df.cinc<=pct[0], 0, \n",
        "                       (np.where(bin_df.cinc<=pct[1], 1, (\n",
        "                           np.where(bin_df.cinc<=pct[2], 2, (\n",
        "                               np.where(bin_df.cinc<=pct[3], 3, (\n",
        "                                   np.where(bin_df.cinc<=pct[4],4,5)\n",
        "                               ))\n",
        "                           ))\n",
        "                       ))))"
      ],
      "execution_count": null,
      "outputs": []
    },
    {
      "cell_type": "code",
      "metadata": {
        "colab": {
          "base_uri": "https://localhost:8080/"
        },
        "id": "8wGy50zafG_9",
        "outputId": "238e017f-bd47-46af-d0f4-95c58b12eded"
      },
      "source": [
        "X,y = bin_df.iloc[:,:-1], bin_df.iloc[:,-1]\n",
        "data_dmatrix = xgb.DMatrix(data = X, label = y)\n",
        "\n",
        "X_train, X_test, y_train, y_test = train_test_split(X,y, test_size = 0.2, random_state = 123)\n",
        "X_train, X_val, y_train, y_val = train_test_split(X_train, y_train, test_size = 0.2, random_state = 123)\n",
        "\n",
        "print(len(X_train), 'train examples')\n",
        "print(len(X_val), 'validation examples')\n",
        "print(len(X_test), 'test examples')"
      ],
      "execution_count": null,
      "outputs": [
        {
          "output_type": "stream",
          "name": "stdout",
          "text": [
            "1696 train examples\n",
            "424 validation examples\n",
            "530 test examples\n"
          ]
        }
      ]
    },
    {
      "cell_type": "code",
      "metadata": {
        "colab": {
          "base_uri": "https://localhost:8080/"
        },
        "id": "OpK83lf6iRcl",
        "outputId": "85d093fa-e450-4cf3-d909-a7cbadae2c89"
      },
      "source": [
        "clf = xgb.XGBClassifier(seed = 42, nthread = 1)\n",
        "clf = clf.fit(X_train, y_train,\n",
        "              eval_set = [(X_train, y_train), (X_val, y_val)],\n",
        "              verbose = 11)\n",
        "y_pred = clf.predict(X_test)\n",
        "y_pred_proba = clf.predict_proba(X_test)\n",
        "print(\"Test error: {:.3f}\".format(1-accuracy_score(y_test, y_pred)))"
      ],
      "execution_count": null,
      "outputs": [
        {
          "output_type": "stream",
          "name": "stdout",
          "text": [
            "[0]\tvalidation_0-merror:0.189858\tvalidation_1-merror:0.261792\n",
            "[11]\tvalidation_0-merror:0.070755\tvalidation_1-merror:0.125\n",
            "[22]\tvalidation_0-merror:0.045991\tvalidation_1-merror:0.096698\n",
            "[33]\tvalidation_0-merror:0.037146\tvalidation_1-merror:0.087264\n",
            "[44]\tvalidation_0-merror:0.032429\tvalidation_1-merror:0.075472\n",
            "[55]\tvalidation_0-merror:0.021226\tvalidation_1-merror:0.073113\n",
            "[66]\tvalidation_0-merror:0.016509\tvalidation_1-merror:0.070755\n",
            "[77]\tvalidation_0-merror:0.012972\tvalidation_1-merror:0.066038\n",
            "[88]\tvalidation_0-merror:0.010613\tvalidation_1-merror:0.063679\n",
            "[99]\tvalidation_0-merror:0.008844\tvalidation_1-merror:0.063679\n",
            "Test error: 0.042\n"
          ]
        }
      ]
    },
    {
      "cell_type": "markdown",
      "metadata": {
        "id": "ZCueycV_Npg5"
      },
      "source": [
        "This tells us that our model has misclassified the country on the test set with an error rate of .042, suggesting that our classification model is accurate. Below, we are going to take a visual example of what GridSearchCV performed above. This will tell us where our parameters perform the best on the test, training, and validation sets. "
      ]
    },
    {
      "cell_type": "code",
      "metadata": {
        "colab": {
          "base_uri": "https://localhost:8080/",
          "height": 367
        },
        "id": "Y6KMK-wcipyI",
        "outputId": "8accddfe-df66-4bc8-92a2-360ccd0c606a"
      },
      "source": [
        "evals_result = clf.evals_result()\n",
        "train_errors = evals_result['validation_0']['merror']\n",
        "validation_errors = evals_result['validation_1']['merror']\n",
        "df = pd.DataFrame([train_errors, validation_errors]).T\n",
        "df.columns = ['train', 'val']\n",
        "df.index.name = 'round'\n",
        "df.plot(title = 'XGBoost learning curves', ylim = (0,0.2), figsize = (12,5))"
      ],
      "execution_count": null,
      "outputs": [
        {
          "output_type": "execute_result",
          "data": {
            "text/plain": [
              "<matplotlib.axes._subplots.AxesSubplot at 0x7febd92530d0>"
            ]
          },
          "metadata": {},
          "execution_count": 84
        },
        {
          "output_type": "display_data",
          "data": {
            "image/png": "[encoded data removed]",
            "text/plain": [
              "<Figure size 864x360 with 1 Axes>"
            ]
          },
          "metadata": {
            "needs_background": "light"
          }
        }
      ]
    },
    {
      "cell_type": "markdown",
      "metadata": {
        "id": "zkgUlP-eOIgc"
      },
      "source": [
        "Validation error levels off at around .075 learning curve. Let's check the optimal max_depth next. "
      ]
    },
    {
      "cell_type": "code",
      "metadata": {
        "id": "txlRlvCNi3iZ"
      },
      "source": [
        "results = []\n",
        "for max_depth in [3,6,9,12,15,30]:\n",
        "  clf = xgb.XGBClassifier(max_depth = max_depth, n_estimators=20)\n",
        "  clf = clf.fit(X_train, y_train, eval_set=[(X_train, y_train), (X_val, y_val)], verbose = False)\n",
        "  results.append(\n",
        "      {\n",
        "          'max_depth': max_depth, \n",
        "          'train_error': 1- accuracy_score(y_train, clf.predict(X_train)),\n",
        "          'validation_error': 1-accuracy_score(y_val, clf.predict(X_val)),\n",
        "          'test_error' : 1-accuracy_score(y_test, clf.predict(X_test))\n",
        "      }\n",
        "  )"
      ],
      "execution_count": null,
      "outputs": []
    },
    {
      "cell_type": "code",
      "metadata": {
        "colab": {
          "base_uri": "https://localhost:8080/",
          "height": 266
        },
        "id": "2VJpgthmjSds",
        "outputId": "667e88c1-f755-4012-9657-2e0e3a1e5cff"
      },
      "source": [
        "df_max_depth = pd.DataFrame(results).set_index('max_depth').sort_index()\n",
        "df_max_depth"
      ],
      "execution_count": null,
      "outputs": [
        {
          "output_type": "execute_result",
          "data": {
            "text/html": [
              "<div>\n",
              "<style scoped>\n",
              "    .dataframe tbody tr th:only-of-type {\n",
              "        vertical-align: middle;\n",
              "    }\n",
              "\n",
              "    .dataframe tbody tr th {\n",
              "        vertical-align: top;\n",
              "    }\n",
              "\n",
              "    .dataframe thead th {\n",
              "        text-align: right;\n",
              "    }\n",
              "</style>\n",
              "<table border=\"1\" class=\"dataframe\">\n",
              "  <thead>\n",
              "    <tr style=\"text-align: right;\">\n",
              "      <th></th>\n",
              "      <th>train_error</th>\n",
              "      <th>validation_error</th>\n",
              "      <th>test_error</th>\n",
              "    </tr>\n",
              "    <tr>\n",
              "      <th>max_depth</th>\n",
              "      <th></th>\n",
              "      <th></th>\n",
              "      <th></th>\n",
              "    </tr>\n",
              "  </thead>\n",
              "  <tbody>\n",
              "    <tr>\n",
              "      <th>3</th>\n",
              "      <td>0.047759</td>\n",
              "      <td>0.099057</td>\n",
              "      <td>0.067925</td>\n",
              "    </tr>\n",
              "    <tr>\n",
              "      <th>6</th>\n",
              "      <td>0.012382</td>\n",
              "      <td>0.068396</td>\n",
              "      <td>0.049057</td>\n",
              "    </tr>\n",
              "    <tr>\n",
              "      <th>9</th>\n",
              "      <td>0.005896</td>\n",
              "      <td>0.058962</td>\n",
              "      <td>0.045283</td>\n",
              "    </tr>\n",
              "    <tr>\n",
              "      <th>12</th>\n",
              "      <td>0.004127</td>\n",
              "      <td>0.061321</td>\n",
              "      <td>0.045283</td>\n",
              "    </tr>\n",
              "    <tr>\n",
              "      <th>15</th>\n",
              "      <td>0.004127</td>\n",
              "      <td>0.063679</td>\n",
              "      <td>0.041509</td>\n",
              "    </tr>\n",
              "    <tr>\n",
              "      <th>30</th>\n",
              "      <td>0.002948</td>\n",
              "      <td>0.058962</td>\n",
              "      <td>0.039623</td>\n",
              "    </tr>\n",
              "  </tbody>\n",
              "</table>\n",
              "</div>"
            ],
            "text/plain": [
              "           train_error  validation_error  test_error\n",
              "max_depth                                           \n",
              "3             0.047759          0.099057    0.067925\n",
              "6             0.012382          0.068396    0.049057\n",
              "9             0.005896          0.058962    0.045283\n",
              "12            0.004127          0.061321    0.045283\n",
              "15            0.004127          0.063679    0.041509\n",
              "30            0.002948          0.058962    0.039623"
            ]
          },
          "metadata": {},
          "execution_count": 86
        }
      ]
    },
    {
      "cell_type": "code",
      "metadata": {
        "colab": {
          "base_uri": "https://localhost:8080/",
          "height": 356
        },
        "id": "rFBO94UTjUUg",
        "outputId": "dfc80f8e-d0a8-4256-d165-c888e3d8df48"
      },
      "source": [
        "df_max_depth.plot(ylim = (0,0.2), figsize = (12,5))"
      ],
      "execution_count": null,
      "outputs": [
        {
          "output_type": "execute_result",
          "data": {
            "text/plain": [
              "<matplotlib.axes._subplots.AxesSubplot at 0x7febd9077110>"
            ]
          },
          "metadata": {},
          "execution_count": 87
        },
        {
          "output_type": "display_data",
          "data": {
            "image/png": "[encoded data removed]",
            "text/plain": [
              "<Figure size 864x360 with 1 Axes>"
            ]
          },
          "metadata": {
            "needs_background": "light"
          }
        }
      ]
    },
    {
      "cell_type": "markdown",
      "metadata": {
        "id": "vzBtE9gqOgXj"
      },
      "source": [
        "Optimal depth of tree levels off around 6. You'll notice that validation error actually increases as the max_depth increases beyond 10. This is attributable to an complex model that is overfitted to our training data. Let's check on the feature importances next. "
      ]
    },
    {
      "cell_type": "code",
      "metadata": {
        "colab": {
          "base_uri": "https://localhost:8080/",
          "height": 337
        },
        "id": "nIgOE50hjXiz",
        "outputId": "08fd8c11-4b11-4249-e38d-dc6430e6d56c"
      },
      "source": [
        "type(clf.feature_importances_)\n",
        "df = pd.DataFrame([X_train.columns, list(clf.feature_importances_)]).T\n",
        "df.columns = ['feature_name', 'feature_score']\n",
        "df.sort_values('feature_score', ascending=False, inplace = True)\n",
        "df.set_index('feature_name', inplace = True)\n",
        "df.iloc[:10].plot(kind = 'barh', legend = False, figsize = (12,5))"
      ],
      "execution_count": null,
      "outputs": [
        {
          "output_type": "execute_result",
          "data": {
            "text/plain": [
              "<matplotlib.axes._subplots.AxesSubplot at 0x7febd9256550>"
            ]
          },
          "metadata": {},
          "execution_count": 88
        },
        {
          "output_type": "display_data",
          "data": {
            "image/png": "[encoded data removed]",
            "text/plain": [
              "<Figure size 864x360 with 1 Axes>"
            ]
          },
          "metadata": {
            "needs_background": "light"
          }
        }
      ]
    },
    {
      "cell_type": "code",
      "metadata": {
        "id": "FM0cyXdCj3tj"
      },
      "source": [
        "explainer = shap.TreeExplainer(clf)\n",
        "shap_values = explainer.shap_values(X_test[:300])"
      ],
      "execution_count": null,
      "outputs": []
    },
    {
      "cell_type": "code",
      "metadata": {
        "colab": {
          "base_uri": "https://localhost:8080/",
          "height": 581
        },
        "id": "hUaEVqKvj3tk",
        "outputId": "9993f1b4-e1aa-4109-a180-ce7352ee3f3b"
      },
      "source": [
        "shap.summary_plot(shap_values, X_test, plot_type=\"bar\")"
      ],
      "execution_count": null,
      "outputs": [
        {
          "output_type": "display_data",
          "data": {
            "image/png": "[encoded data removed]",
            "text/plain": [
              "<Figure size 576x684 with 1 Axes>"
            ]
          },
          "metadata": {
            "needs_background": "light"
          }
        }
      ]
    },
    {
      "cell_type": "markdown",
      "metadata": {
        "id": "TS8w7vbOmBPB"
      },
      "source": [
        "Similarly to our Regression Problem, Armed forces personnel played a significant role in the output of our model. Please refer to the respective codebooks for other significant factors. "
      ]
    },
    {
      "cell_type": "code",
      "metadata": {
        "id": "aOxdEAJ7uC9T"
      },
      "source": [
        "pred_clf = pred_df\n",
        "pred_clf['labels']=clf.predict(pred_clf.iloc[:,4:-1])"
      ],
      "execution_count": null,
      "outputs": []
    },
    {
      "cell_type": "code",
      "metadata": {
        "id": "ngt8MJjSuHRf"
      },
      "source": [
        "predictions = pred_clf[['country_name', 'year','COWcode','labels']]\n",
        "mod_cinc = bin_df.groupby('country_name',as_index=True)['cinc'].apply(pd.Series.mode)\n",
        "predictions = predictions.merge(mod_cinc, on = 'country_name')\n",
        "\n",
        "#calculate the difference between predicted values and the average by country\n",
        "predictions['Delta'] = abs(predictions.labels-predictions.cinc)\n",
        "predictions.rename(columns = {'cinc':'Mode CINC'}, inplace = True)"
      ],
      "execution_count": null,
      "outputs": []
    },
    {
      "cell_type": "code",
      "metadata": {
        "colab": {
          "base_uri": "https://localhost:8080/"
        },
        "id": "xUzBai1TvNw3",
        "outputId": "42e7207c-5a2d-4ea6-d614-83503fa9f3fc"
      },
      "source": [
        "print('Misclassification Rate:{:.2f}'.format(1-len(predictions[predictions.Delta==0])/len(predictions)))\n",
        "print(predictions.tail(10))"
      ],
      "execution_count": null,
      "outputs": [
        {
          "output_type": "stream",
          "name": "stdout",
          "text": [
            "Misclassification Rate:0.33\n",
            "    country_name  year  COWcode  labels  Mode CINC  Delta\n",
            "618   Tajikistan  2019    702.0       2          2      0\n",
            "619   Tajikistan  2020    702.0       1          2      1\n",
            "620    Indonesia  2017    850.0       4          4      0\n",
            "621    Indonesia  2018    850.0       4          4      0\n",
            "622    Indonesia  2019    850.0       1          4      3\n",
            "623    Indonesia  2020    850.0       1          4      3\n",
            "624      Ecuador  2017    130.0       3          3      0\n",
            "625      Ecuador  2018    130.0       3          3      0\n",
            "626      Ecuador  2019    130.0       1          3      2\n",
            "627      Ecuador  2020    130.0       1          3      2\n"
          ]
        }
      ]
    },
    {
      "cell_type": "markdown",
      "metadata": {
        "id": "A8PFoTgWzVHt"
      },
      "source": [
        "The classification model misclassified the country 33% of the time when compared to the mode of classifiers by country. This can be explained in two possibilies: (1) The countries standard deviation is greater than the percentiles (can be easily checked), or (2) we are missing too much data for 2019 and 2020 (This seems to be the case as the majority of these dates are misclassified)."
      ]
    },
    {
      "cell_type": "code",
      "metadata": {
        "colab": {
          "base_uri": "https://localhost:8080/"
        },
        "id": "ZRdw28jkxCM6",
        "outputId": "057f98eb-8831-4ea8-db40-949d97263e86"
      },
      "source": [
        "stdev_df = bin_df.groupby('country_name', as_index = True)['cinc'].agg(np.std)\n",
        "stdev_df"
      ],
      "execution_count": null,
      "outputs": [
        {
          "output_type": "execute_result",
          "data": {
            "text/plain": [
              "country_name\n",
              "Afghanistan    0.242536\n",
              "Albania        0.507300\n",
              "Algeria        0.000000\n",
              "Angola         0.242536\n",
              "Argentina      0.000000\n",
              "                 ...   \n",
              "Venezuela      0.000000\n",
              "Vietnam        0.000000\n",
              "Yemen          0.000000\n",
              "Zambia         0.000000\n",
              "Zimbabwe       0.507300\n",
              "Name: cinc, Length: 157, dtype: float64"
            ]
          },
          "metadata": {},
          "execution_count": 124
        }
      ]
    },
    {
      "cell_type": "code",
      "metadata": {
        "id": "vjX3EWwB0P6t"
      },
      "source": [
        ""
      ],
      "execution_count": null,
      "outputs": []
    }
  ]
}